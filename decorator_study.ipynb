{
 "cells": [
  {
   "cell_type": "code",
   "execution_count": 1,
   "id": "d5061fff",
   "metadata": {},
   "outputs": [
    {
     "name": "stdout",
     "output_type": "stream",
     "text": [
      "start!!!\n",
      "hello\n",
      "end!!!\n"
     ]
    }
   ],
   "source": [
    "# 함수의 데코레이터 사용\n",
    "\n",
    "# 1. 먼저 수행\n",
    "def test(func):\n",
    "    def wrapper():\n",
    "        print(\"start!!!\")\n",
    "        func()\n",
    "        print(\"end!!!\")\n",
    "    return wrapper\n",
    "\n",
    "# 데코레이션을 붙여 함수 생성\n",
    "\n",
    "@test\n",
    "def hello():\n",
    "    print(\"hello\")\n",
    "    \n",
    "    \n",
    "# 함수 호출\n",
    "hello()"
   ]
  }
 ],
 "metadata": {
  "kernelspec": {
   "display_name": "Python 3 (ipykernel)",
   "language": "python",
   "name": "python3"
  },
  "language_info": {
   "codemirror_mode": {
    "name": "ipython",
    "version": 3
   },
   "file_extension": ".py",
   "mimetype": "text/x-python",
   "name": "python",
   "nbconvert_exporter": "python",
   "pygments_lexer": "ipython3",
   "version": "3.9.12"
  }
 },
 "nbformat": 4,
 "nbformat_minor": 5
}
