{
 "cells": [
  {
   "cell_type": "markdown",
   "id": "907be576",
   "metadata": {},
   "source": [
    "# 215_2번 문제."
   ]
  },
  {
   "cell_type": "code",
   "execution_count": 3,
   "id": "5fb07384",
   "metadata": {},
   "outputs": [
    {
     "name": "stdout",
     "output_type": "stream",
     "text": [
      "273\n",
      "103\n",
      "800\n"
     ]
    }
   ],
   "source": [
    "numbers = [273, 103, 5, 32, 65, 9, 72, 800, 99]\n",
    "\n",
    "for number in numbers:\n",
    "    if number > 100:\n",
    "        print(number)\n",
    "        "
   ]
  },
  {
   "cell_type": "markdown",
   "id": "10ca3034",
   "metadata": {},
   "source": [
    "# 215_3번 문제."
   ]
  },
  {
   "cell_type": "code",
   "execution_count": 55,
   "id": "6aaedc18",
   "metadata": {},
   "outputs": [
    {
     "name": "stdout",
     "output_type": "stream",
     "text": [
      "273은 홀수입니다.\n",
      "103은 홀수입니다.\n",
      "5은 홀수입니다.\n",
      "32은 짝수입니다.\n",
      "65은 홀수입니다.\n",
      "9은 홀수입니다.\n",
      "72은 짝수입니다.\n",
      "800은 짝수입니다.\n",
      "99은 홀수입니다.\n"
     ]
    }
   ],
   "source": [
    "numbers = [273, 103, 5, 32, 65, 9, 72, 800, 99]\n",
    "\n",
    "for number in numbers:\n",
    "    \n",
    "    if number % 2 == 0:\n",
    "        print(f\"{number}은 짝수입니다.\")\n",
    "    else: \n",
    "        print(f\"{number}은 홀수입니다.\")"
   ]
  },
  {
   "cell_type": "markdown",
   "id": "041f8f5d",
   "metadata": {},
   "source": [
    "# 215_3번 문제."
   ]
  },
  {
   "cell_type": "code",
   "execution_count": 61,
   "id": "09aa3bb6",
   "metadata": {},
   "outputs": [
    {
     "name": "stdout",
     "output_type": "stream",
     "text": [
      "273 는 3 자릿수입니다.\n",
      "103 는 3 자릿수입니다.\n",
      "5 는 1 자릿수입니다.\n",
      "32 는 2 자릿수입니다.\n",
      "65 는 2 자릿수입니다.\n",
      "9 는 1 자릿수입니다.\n",
      "72 는 2 자릿수입니다.\n",
      "800 는 3 자릿수입니다.\n",
      "99 는 2 자릿수입니다.\n"
     ]
    }
   ],
   "source": [
    "numbers = [273, 103, 5, 32, 65, 9, 72, 800, 99]\n",
    "\n",
    "for number in numbers:\n",
    "    if len(str(number)) == 3:\n",
    "        print(f\"{number} 는 3 자릿수입니다.\")\n",
    "    elif len(str(number)) == 2:\n",
    "        print(f\"{number} 는 2 자릿수입니다.\")\n",
    "    else:\n",
    "        print(f\"{number} 는 1 자릿수입니다.\")"
   ]
  },
  {
   "cell_type": "markdown",
   "id": "d1cf71cd",
   "metadata": {},
   "source": [
    "# 215_4번문제."
   ]
  },
  {
   "cell_type": "code",
   "execution_count": 2,
   "id": "1efd9bea",
   "metadata": {},
   "outputs": [
    {
     "name": "stdout",
     "output_type": "stream",
     "text": [
      "[[4, 7], [5, 2, 5, 8], [3, 6, 9]]\n"
     ]
    }
   ],
   "source": [
    "numbers = [1,2,3,4,5,6,7,8,9]\n",
    "output = [[],[],[]]\n",
    "for number in numbers:\n",
    "    output[(number+2)%3].append(number)\n",
    "print(output)"
   ]
  },
  {
   "cell_type": "markdown",
   "id": "34b8251d",
   "metadata": {},
   "source": [
    "# 215_5번문제"
   ]
  },
  {
   "cell_type": "code",
   "execution_count": 9,
   "id": "b1be1dc9",
   "metadata": {
    "scrolled": true
   },
   "outputs": [
    {
     "name": "stdout",
     "output_type": "stream",
     "text": [
      "4\n",
      "[0, 1, 2, 3]\n",
      "i = 0, j = 1\n",
      "i = 1, j = 3\n",
      "i = 2, j = 5\n",
      "i = 3, j = 7\n",
      "[1, 4, 3, 16, 5, 36, 7, 64, 9]\n"
     ]
    }
   ],
   "source": [
    "numbers = [1,2,3,4,5,6,7,8,9]\n",
    "print(len(numbers) //2)\n",
    "print(list(range(0,len(numbers) //2)))\n",
    "\n",
    "\n",
    "for i in range(0, len(numbers)//2):\n",
    "    j = (i*2) +1\n",
    "    print(f\"i = {i}, j = {j}\")\n",
    "    numbers[j] = numbers[j] ** 2\n",
    "\n",
    "print(numbers)\n"
   ]
  },
  {
   "cell_type": "markdown",
   "id": "f4fb5200",
   "metadata": {},
   "source": [
    "# 227_2번 문제"
   ]
  },
  {
   "cell_type": "code",
   "execution_count": 11,
   "id": "595a9269",
   "metadata": {},
   "outputs": [
    {
     "name": "stdout",
     "output_type": "stream",
     "text": [
      " # 우리 동네 애완 동물들\n",
      "구름  5살\n",
      "초코  3살\n",
      "아지  1살\n",
      "호랑이  1살\n"
     ]
    }
   ],
   "source": [
    "pets = [\n",
    "    {\"name\": \"구름\",\"age\": 5},\n",
    "    {\"name\": \"초코\",\"age\": 3},\n",
    "    {\"name\": \"아지\",\"age\": 1},\n",
    "    {\"name\": \"호랑이\",\"age\": 1}\n",
    "]\n",
    "\n",
    "print(\" # 우리 동네 애완 동물들\")\n",
    "\n",
    "for pet in pets:\n",
    "    print(f\"{pet['name']}  {pet['age']}살\")\n",
    "    \n",
    "#     print(f\"{} {pet[name]}\")"
   ]
  },
  {
   "cell_type": "markdown",
   "id": "69aba698",
   "metadata": {},
   "source": [
    "# 228_3번 문제"
   ]
  },
  {
   "cell_type": "code",
   "execution_count": 14,
   "id": "75a8adb1",
   "metadata": {},
   "outputs": [
    {
     "name": "stdout",
     "output_type": "stream",
     "text": [
      "{1: 3, 2: 4, 6: 1, 8: 2, 4: 3, 3: 3, 9: 3, 5: 2, 7: 2}\n"
     ]
    }
   ],
   "source": [
    "numbers = [1,2,6,8,4,3,2,1,9,5,4,9,7,2,1,3,5,4,8,9,7,2,3]\n",
    "counter = {}\n",
    "\n",
    "for number in numbers:\n",
    "    if number in counter:\n",
    "        counter[number] += 1\n",
    "        \n",
    "    else:\n",
    "        counter[number] = 1\n",
    "        \n",
    "print(counter)\n"
   ]
  },
  {
   "cell_type": "markdown",
   "id": "9717c35d",
   "metadata": {},
   "source": [
    "# 228_4번 문제\n",
    "if 랑 elif 일때 값이 달라지는 이유를 도저히 모르겠다.\n",
    "# 해결 if 조건문이 두개니까 반복이 두번\n"
   ]
  },
  {
   "cell_type": "code",
   "execution_count": 82,
   "id": "343a4f63",
   "metadata": {
    "scrolled": false
   },
   "outputs": [
    {
     "name": "stdout",
     "output_type": "stream",
     "text": [
      "name : 기사\n",
      "level : 12\n",
      "sword : 불꽃의 검\n",
      "armor : 풀플레이트\n",
      "items : {'sword': '불꽃의 검', 'armor': '풀플레이트'}\n",
      "skill : 베기\n",
      "skill : 세게 베기\n",
      "skill : 아주 세게 베기\n"
     ]
    }
   ],
   "source": [
    "character={\n",
    "    \"name\" : \"기사\",\n",
    "    \"level\": \"12\",\n",
    "    \"items\":{\n",
    "        \"sword\": \"불꽃의 검\",\n",
    "        \"armor\": \"풀플레이트\"\n",
    "    },\n",
    "    \"skill\" : [\"베기\",\"세게 베기\",\"아주 세게 베기\"]      \n",
    "}\n",
    "\n",
    "for key in character:\n",
    "    if type(character[key]) is dict:\n",
    "        for i in character[key]:\n",
    "            print(f\"{i} : {character[key][i]}\")\n",
    "    if type(character[key]) is list:\n",
    "        for i in character[key]:\n",
    "            print(f\"{key} : {i}\")\n",
    "    else:\n",
    "        print(f\"{key} : {character[key]}\")\n",
    "    "
   ]
  },
  {
   "cell_type": "code",
   "execution_count": 84,
   "id": "22d7c2b4",
   "metadata": {},
   "outputs": [
    {
     "name": "stdout",
     "output_type": "stream",
     "text": [
      "*\n",
      "**\n",
      "***\n",
      "****\n",
      "*****\n",
      "******\n",
      "*******\n",
      "********\n",
      "*********\n",
      "\n",
      "\n",
      "\n",
      "*\n",
      "**\n",
      "***\n",
      "****\n",
      "*****\n",
      "******\n",
      "*******\n",
      "********\n",
      "*********\n",
      "\n"
     ]
    }
   ],
   "source": [
    "# 내가 생각한 방법\n",
    "star = \"*\"\n",
    "for i in range(9):\n",
    "    print(star)\n",
    "    star += \"*\"\n",
    "# 책에 나온 방법\n",
    "output = \"\"\n",
    "print(\"\"\"\n",
    "\n",
    "\"\"\")\n",
    "for i in range(1, 10):\n",
    "    for j in range(0,i):\n",
    "        output += \"*\"\n",
    "    output += \"\\n\"\n",
    "    \n",
    "print(output)\n"
   ]
  },
  {
   "cell_type": "markdown",
   "id": "3761835c",
   "metadata": {},
   "source": [
    "# 248_문제 2번."
   ]
  },
  {
   "cell_type": "code",
   "execution_count": 10,
   "id": "c2437ecf",
   "metadata": {},
   "outputs": [
    {
     "name": "stdout",
     "output_type": "stream",
     "text": [
      "{'name': '기사', 'hp': '200', 'mp': '30', 'level': '5'}\n"
     ]
    }
   ],
   "source": [
    "key = [\"name\",\"hp\",\"mp\",\"level\"]\n",
    "value = [\"기사\",\"200\",\"30\",\"5\"]\n",
    "character = {}\n",
    "for i in range(len(key)):\n",
    "    character[key[i]] =value[i]\n",
    "    \n",
    "print(character)"
   ]
  },
  {
   "cell_type": "markdown",
   "id": "aebcd469",
   "metadata": {},
   "source": [
    "# 248_문제 3번"
   ]
  },
  {
   "cell_type": "code",
   "execution_count": 34,
   "id": "febf107d",
   "metadata": {},
   "outputs": [
    {
     "name": "stdout",
     "output_type": "stream",
     "text": [
      "142를 더할대 넘 그때의 값10011\n"
     ]
    }
   ],
   "source": [
    "limit=10000\n",
    "i = 1\n",
    "sum_value = 0\n",
    "\n",
    "while sum_value < limit:\n",
    "    \n",
    "    sum_value +=i \n",
    "    i +=1\n",
    "print(f\"{i}를 더할대 넘 그때의 값{sum_value}\")"
   ]
  },
  {
   "cell_type": "markdown",
   "id": "40f97ae7",
   "metadata": {},
   "source": [
    "# 248_문제 4번"
   ]
  },
  {
   "cell_type": "code",
   "execution_count": 53,
   "id": "cccc73d6",
   "metadata": {},
   "outputs": [
    {
     "name": "stdout",
     "output_type": "stream",
     "text": [
      "최대:50 * 50 = 2500\n"
     ]
    }
   ],
   "source": [
    "max_value = 0\n",
    "a = 0\n",
    "b = 0\n",
    "\n",
    "for i in range(1,100):\n",
    "    j = 100-i\n",
    "    \n",
    "    if max_value < j*i:\n",
    "        max_value = j*i\n",
    "        a = j\n",
    "        b = i       \n",
    "print(f\"최대:{a} * {b} = {max_value}\")\n",
    "    \n"
   ]
  },
  {
   "cell_type": "markdown",
   "id": "3878d2f2",
   "metadata": {},
   "source": [
    "# 리스트 내포\n",
    "## 리스트 이름 = [표현식 for 반복자 in 반복할 수 있는 것 if 조건문]"
   ]
  },
  {
   "cell_type": "code",
   "execution_count": 56,
   "id": "a4c3c4cd",
   "metadata": {},
   "outputs": [
    {
     "name": "stdout",
     "output_type": "stream",
     "text": [
      "[4, 5, 6, 7, 8, 9]\n"
     ]
    }
   ],
   "source": [
    "key_value = [i+4 for i in range(0,6)]\n",
    "print(key_value)"
   ]
  },
  {
   "cell_type": "code",
   "execution_count": 57,
   "id": "07488cdc",
   "metadata": {},
   "outputs": [
    {
     "name": "stdout",
     "output_type": "stream",
     "text": [
      "[1, 2, 3, 4]\n"
     ]
    }
   ],
   "source": [
    "a = [1,2,3,4]\n",
    "print(a, sep = \"1\")"
   ]
  },
  {
   "cell_type": "markdown",
   "id": "482acfc7",
   "metadata": {},
   "source": [
    "# 반복문\n",
    "## for 반복자 in 반복할 수 있는 것(이터러블)\n",
    "                        리스트, 딕셔너리,문자열,튜플만 이터러블에 들어간다"
   ]
  },
  {
   "cell_type": "markdown",
   "id": "77cb2465",
   "metadata": {},
   "source": [
    "# 267_2번 문제"
   ]
  },
  {
   "cell_type": "code",
   "execution_count": 19,
   "id": "addd7e9d",
   "metadata": {},
   "outputs": [
    {
     "name": "stdout",
     "output_type": "stream",
     "text": [
      "2 : 10\n",
      "5 : 101\n",
      "6 : 110\n",
      "11 : 1011\n",
      "13 : 1101\n",
      "14 : 1110\n",
      "23 : 10111\n",
      "27 : 11011\n",
      "29 : 11101\n",
      "30 : 11110\n",
      "47 : 101111\n",
      "55 : 110111\n",
      "59 : 111011\n",
      "61 : 111101\n",
      "62 : 111110\n",
      "95 : 1011111\n"
     ]
    }
   ],
   "source": [
    "## 1~100\n",
    "output = [i for i in range(1,100+1) if \"{:b}\".format(i).count(\"0\") == 1]\n",
    "\n",
    "for i in output:\n",
    "    print(f'{i} : {\"{:b}\".format(i)}')\n",
    "\n"
   ]
  },
  {
   "cell_type": "markdown",
   "id": "fadb71b6",
   "metadata": {},
   "source": [
    "# 도전문제_268"
   ]
  },
  {
   "cell_type": "code",
   "execution_count": 29,
   "id": "61671f8c",
   "metadata": {},
   "outputs": [
    {
     "name": "stdout",
     "output_type": "stream",
     "text": [
      "[1, 2, 3, 4, 1, 2, 3, 1, 4, 1, 2, 3]에서\n",
      "사용된 숫자의 종류는 4개입니다.\n",
      "참고: {1: 4, 2: 3, 3: 3, 4: 2}\n"
     ]
    }
   ],
   "source": [
    "# 도전문제 1번 (함수를 사용하여)\n",
    "\n",
    "\n",
    "def dictionary(numbers):\n",
    "    output = {}\n",
    "    for number in numbers:\n",
    "        if number in output:\n",
    "            output[number] += 1\n",
    "        else:\n",
    "            output[number] = 1\n",
    "    return output\n",
    "\n",
    "\n",
    "data = [1,2,3,4,1,2,3,1,4,1,2,3]\n",
    "\n",
    "print(f\"{data}에서\")\n",
    "print(f\"사용된 숫자의 종류는 {len(dictionary(data))}개입니다.\")\n",
    "print(f\"참고: {dictionary(data)}\")"
   ]
  },
  {
   "cell_type": "code",
   "execution_count": 45,
   "id": "a136b321",
   "metadata": {},
   "outputs": [
    {
     "name": "stdout",
     "output_type": "stream",
     "text": [
      "염기 서열을 입력해주세요: ctacaatgtcagtatacccattgcattagccgg\n"
     ]
    },
    {
     "ename": "TypeError",
     "evalue": "'dict' object is not callable",
     "output_type": "error",
     "traceback": [
      "\u001b[1;31m---------------------------------------------------------------------------\u001b[0m",
      "\u001b[1;31mTypeError\u001b[0m                                 Traceback (most recent call last)",
      "Input \u001b[1;32mIn [45]\u001b[0m, in \u001b[0;36m<cell line: 24>\u001b[1;34m()\u001b[0m\n\u001b[0;32m     21\u001b[0m         \u001b[38;5;28mprint\u001b[39m(\u001b[38;5;124mf\u001b[39m\u001b[38;5;124m\"\u001b[39m\u001b[38;5;132;01m{\u001b[39;00mkey\u001b[38;5;132;01m}\u001b[39;00m\u001b[38;5;124m의 개수 : \u001b[39m\u001b[38;5;132;01m{\u001b[39;00mdna_dictionary(key)\u001b[38;5;132;01m}\u001b[39;00m\u001b[38;5;124m\"\u001b[39m)\n\u001b[0;32m     23\u001b[0m dna_input \u001b[38;5;241m=\u001b[39m \u001b[38;5;28minput\u001b[39m(\u001b[38;5;124m\"\u001b[39m\u001b[38;5;124m염기 서열을 입력해주세요: \u001b[39m\u001b[38;5;124m\"\u001b[39m)\n\u001b[1;32m---> 24\u001b[0m \u001b[38;5;28mprint\u001b[39m(\u001b[43mdna_counter\u001b[49m\u001b[43m(\u001b[49m\u001b[43mdna_input\u001b[49m\u001b[43m)\u001b[49m)\n",
      "Input \u001b[1;32mIn [45]\u001b[0m, in \u001b[0;36mdna_counter\u001b[1;34m(dna_datas)\u001b[0m\n\u001b[0;32m     12\u001b[0m     \u001b[38;5;28;01melse\u001b[39;00m:\n\u001b[0;32m     13\u001b[0m         output[dna_data] \u001b[38;5;241m=\u001b[39m dna_datas\u001b[38;5;241m.\u001b[39mcount(\u001b[38;5;124m\"\u001b[39m\u001b[38;5;124mg\u001b[39m\u001b[38;5;124m\"\u001b[39m)\n\u001b[1;32m---> 16\u001b[0m \u001b[43mdna_print\u001b[49m\u001b[43m(\u001b[49m\u001b[43moutput\u001b[49m\u001b[43m)\u001b[49m\n\u001b[0;32m     17\u001b[0m \u001b[38;5;28;01mreturn\u001b[39;00m output\n",
      "Input \u001b[1;32mIn [45]\u001b[0m, in \u001b[0;36mdna_print\u001b[1;34m(dna_dictionary)\u001b[0m\n\u001b[0;32m     19\u001b[0m \u001b[38;5;28;01mdef\u001b[39;00m \u001b[38;5;21mdna_print\u001b[39m(dna_dictionary):\n\u001b[0;32m     20\u001b[0m     \u001b[38;5;28;01mfor\u001b[39;00m key \u001b[38;5;129;01min\u001b[39;00m dna_dictionary:\n\u001b[1;32m---> 21\u001b[0m         \u001b[38;5;28mprint\u001b[39m(\u001b[38;5;124mf\u001b[39m\u001b[38;5;124m\"\u001b[39m\u001b[38;5;132;01m{\u001b[39;00mkey\u001b[38;5;132;01m}\u001b[39;00m\u001b[38;5;124m의 개수 : \u001b[39m\u001b[38;5;132;01m{\u001b[39;00mdna_dictionary(key)\u001b[38;5;132;01m}\u001b[39;00m\u001b[38;5;124m\"\u001b[39m)\n",
      "\u001b[1;31mTypeError\u001b[0m: 'dict' object is not callable"
     ]
    }
   ],
   "source": [
    "# 도전문제 2번 (함수를 사용하여)\n",
    "##  내가 푼 방법\n",
    "def dna_counter(dna_datas):\n",
    "    output = {}\n",
    "    for dna_data in dna_datas:\n",
    "        if dna_data == \"a\":\n",
    "            output[dna_data] = dna_datas.count(\"a\")\n",
    "        elif dna_data == \"c\":\n",
    "            output[dna_data] = dna_datas.count(\"c\")\n",
    "        elif dna_data == \"t\":\n",
    "            output[dna_data] = dna_datas.count(\"t\")\n",
    "        else:\n",
    "            output[dna_data] = dna_datas.count(\"g\")\n",
    "\n",
    "\n",
    "    dna_print(output)\n",
    "    return output\n",
    "\n",
    "def dna_print(dna_dictionary):\n",
    "    for key in dna_dictionary:\n",
    "        print(f\"{key}의 개수 : {dna_dictionary(key)}\")\n",
    "\n",
    "dna_input = input(\"염기 서열을 입력해주세요: \")\n",
    "print(dna_counter(dna_input))\n",
    "\n",
    "\n",
    "# dna_data = \"ctacaatgtcagtatacccattgcattagccgg\"\n",
    "# 답지\n",
    "\n",
    "# nucleos = input(\"염기 서열을 입력해주세요:\")\n",
    "\n",
    "# counter = {\n",
    "#     \"a\" : 0,          ## 이걸 몰랐네!\n",
    "#     \"t\" : 0,\n",
    "#     \"g\" : 0,\n",
    "#     \"c\" : 0\n",
    "# }\n",
    "\n",
    "# for nucleo in nucleos:\n",
    "#     counter[nucleo] += 1\n",
    "\n",
    "# for key in counter:\n",
    "#     print(f\"{key}의 개수: {counter[key]}\")"
   ]
  },
  {
   "cell_type": "code",
   "execution_count": 39,
   "id": "33613964",
   "metadata": {},
   "outputs": [
    {
     "name": "stdout",
     "output_type": "stream",
     "text": [
      "s\n"
     ]
    },
    {
     "ename": "KeyError",
     "evalue": "'s'",
     "output_type": "error",
     "traceback": [
      "\u001b[1;31m---------------------------------------------------------------------------\u001b[0m",
      "\u001b[1;31mKeyError\u001b[0m                                  Traceback (most recent call last)",
      "Input \u001b[1;32mIn [39]\u001b[0m, in \u001b[0;36m<cell line: 3>\u001b[1;34m()\u001b[0m\n\u001b[0;32m      4\u001b[0m \u001b[38;5;28;01mif\u001b[39;00m i \u001b[38;5;241m==\u001b[39m \u001b[38;5;124m\"\u001b[39m\u001b[38;5;124ms\u001b[39m\u001b[38;5;124m\"\u001b[39m:\n\u001b[0;32m      5\u001b[0m     \u001b[38;5;28mprint\u001b[39m(i)\n\u001b[1;32m----> 6\u001b[0m     f[i] \u001b[38;5;241m+\u001b[39m\u001b[38;5;241m=\u001b[39m \u001b[38;5;241m1\u001b[39m\n",
      "\u001b[1;31mKeyError\u001b[0m: 's'"
     ]
    }
   ],
   "source": [
    "d = \"sdf\"\n",
    "f = {}\n",
    "for i in d:\n",
    "    if i == \"s\":\n",
    "        print(i)\n",
    "        f[i] += 1 \n",
    "        \n",
    "         \n",
    "        def()"
   ]
  }
 ],
 "metadata": {
  "kernelspec": {
   "display_name": "Python 3 (ipykernel)",
   "language": "python",
   "name": "python3"
  },
  "language_info": {
   "codemirror_mode": {
    "name": "ipython",
    "version": 3
   },
   "file_extension": ".py",
   "mimetype": "text/x-python",
   "name": "python",
   "nbconvert_exporter": "python",
   "pygments_lexer": "ipython3",
   "version": "3.9.12"
  }
 },
 "nbformat": 4,
 "nbformat_minor": 5
}
