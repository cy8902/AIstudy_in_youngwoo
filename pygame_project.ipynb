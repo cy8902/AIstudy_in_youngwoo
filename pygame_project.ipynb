{
 "cells": [
  {
   "cell_type": "code",
   "execution_count": 11,
   "id": "eb962218",
   "metadata": {},
   "outputs": [
    {
     "ename": "SystemExit",
     "evalue": "",
     "output_type": "error",
     "traceback": [
      "An exception has occurred, use %tb to see the full traceback.\n",
      "\u001b[1;31mSystemExit\u001b[0m\n"
     ]
    },
    {
     "name": "stderr",
     "output_type": "stream",
     "text": [
      "C:\\ProgramData\\Anaconda3\\lib\\site-packages\\IPython\\core\\interactiveshell.py:3377: UserWarning: To exit: use 'exit', 'quit', or Ctrl-D.\n",
      "  warn(\"To exit: use 'exit', 'quit', or Ctrl-D.\", stacklevel=1)\n"
     ]
    }
   ],
   "source": [
    "import pygame\n",
    "import sys\n",
    "from time import sleep\n",
    "\n",
    "# 게임처음화면 블랙\n",
    "BLACK = (0, 0, 0) # rgh\n",
    "padWidth = 480\n",
    "padHeight = 640\n",
    "\n",
    "def initGame(): # 게임 초기화\n",
    "    global gamePad, clock\n",
    "    pygame.init()\n",
    "    gamePad = pygame.display.set_mode((padWidth, padHeight))\n",
    "    pygame.display.set_caption(\"PYShooting\")\n",
    "    clock = pygame.time.Clock()\n",
    "    \n",
    "def runGame():\n",
    "    global gapdPad, clock\n",
    "    \n",
    "    onGame = False\n",
    "    while not onGame:\n",
    "        for event in pygame.event.get():\n",
    "            if event.type in [pygame.QUIT]:\n",
    "                pygame.quit()\n",
    "                sys.exit()\n",
    "                \n",
    "        gamePad.fill(BLACK)\n",
    "        \n",
    "        pygame.display.update()\n",
    "        \n",
    "        clock.tick(60)\n",
    "    pygame.quit()\n",
    "    \n",
    "initGame()\n",
    "runGame()\n",
    "    "
   ]
  },
  {
   "cell_type": "code",
   "execution_count": null,
   "id": "aa761696",
   "metadata": {},
   "outputs": [],
   "source": []
  }
 ],
 "metadata": {
  "kernelspec": {
   "display_name": "Python 3 (ipykernel)",
   "language": "python",
   "name": "python3"
  },
  "language_info": {
   "codemirror_mode": {
    "name": "ipython",
    "version": 3
   },
   "file_extension": ".py",
   "mimetype": "text/x-python",
   "name": "python",
   "nbconvert_exporter": "python",
   "pygments_lexer": "ipython3",
   "version": "3.9.12"
  }
 },
 "nbformat": 4,
 "nbformat_minor": 5
}
