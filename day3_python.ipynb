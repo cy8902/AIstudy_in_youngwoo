{
 "cells": [
  {
   "cell_type": "code",
   "execution_count": 6,
   "id": "35de6584",
   "metadata": {},
   "outputs": [
    {
     "name": "stdout",
     "output_type": "stream",
     "text": [
      "os.listdir(): ['.git', '.ipynb_checkpoints', 'cal.ipynb', 'day1_study.ipynb', 'day2_study.ipynb', 'day3_python.ipynb', 'def_study.ipynb', 'test.ipynb', '반복문과 딕셔너리 리스트 문제풀이.ipynb']\n",
      "\n",
      "# 폴더와 파일 구분하기\n",
      "폴더: .git\n",
      "폴더: .ipynb_checkpoints\n",
      "파일: cal.ipynb\n",
      "파일: day1_study.ipynb\n",
      "파일: day2_study.ipynb\n",
      "파일: day3_python.ipynb\n",
      "파일: def_study.ipynb\n",
      "파일: test.ipynb\n",
      "파일: 반복문과 딕셔너리 리스트 문제풀이.ipynb\n"
     ]
    }
   ],
   "source": [
    "# 모듈을 읽어 들입니다.\n",
    "import os\n",
    "\n",
    "# 현재 폴더의 파일/폴더를 구분합니다.\n",
    "output = os.listdir(\".\")\n",
    "print(\"os.listdir():\", output)\n",
    "print()\n",
    "\n",
    "print(\"# 폴더와 파일 구분하기\")\n",
    "for path in output:\n",
    "    if os.path.isdir(path):\n",
    "        print(\"폴더:\", path)\n",
    "    else:\n",
    "        print(\"파일:\", path)\n"
   ]
  },
  {
   "cell_type": "code",
   "execution_count": null,
   "id": "97452bd9",
   "metadata": {},
   "outputs": [],
   "source": []
  },
  {
   "cell_type": "code",
   "execution_count": 8,
   "id": "efa0a738",
   "metadata": {},
   "outputs": [
    {
     "name": "stdout",
     "output_type": "stream",
     "text": [
      "random 모듈\n",
      "random 0.3273809115514049\n",
      "uniform(10, 20) 14.937793819387942\n"
     ]
    }
   ],
   "source": [
    "import random\n",
    "print(\"random 모듈\")\n",
    "\n",
    "print(\"random\", random.random())\n",
    "\n",
    "print(\"uniform(10, 20)\", random.uniform(10, 20))"
   ]
  },
  {
   "cell_type": "code",
   "execution_count": 20,
   "id": "7e638b51",
   "metadata": {},
   "outputs": [
    {
     "name": "stdout",
     "output_type": "stream",
     "text": [
      "이름을 입력하시오:Q\n",
      "종료\n"
     ]
    }
   ],
   "source": [
    "# 1. 입력된 이름을 키 성적을 값으로 받기\n",
    "# 2. 이름에 q가 입력되면 종료\n",
    "# 3. 저장된 자료 출력\n",
    "\n",
    "while True:\n",
    "    \n",
    "    input_name = input(\"이름을 입력하시오:\")\n",
    "    \n",
    "    \n",
    "    if input_name != \"q\" and input_name != \"Q\": # input_name != \"q\",\"Q\"\n",
    "        \n",
    "        input_score = input(\"성적을 입력하시오:\")\n",
    "        input_dict = {}\n",
    "        input_dict[input_name] = input_score\n",
    "        print(input_dict)\n",
    "        \n",
    "    else:\n",
    "        print(\"종료\")\n",
    "        break\n",
    "        \n",
    "        \n",
    "        \n",
    "\n",
    "\n"
   ]
  },
  {
   "cell_type": "code",
   "execution_count": 27,
   "id": "2a1c073a",
   "metadata": {},
   "outputs": [
    {
     "name": "stdout",
     "output_type": "stream",
     "text": [
      "['.git', '.ipynb_checkpoints', 'cal.ipynb', 'day1_study.ipynb', 'day2_study.ipynb', 'day3_python.ipynb', 'def_study.ipynb', 'test.ipynb', '반복문과 딕셔너리 리스트 문제풀이.ipynb']\n"
     ]
    }
   ],
   "source": [
    "# urllib 모듈\n",
    "\n",
    "from urllib import request\n",
    "\n",
    "target = request.urlopen(\"https://google.com\")\n",
    "ouput = target.read()\n",
    "\n",
    "print(output)"
   ]
  },
  {
   "cell_type": "code",
   "execution_count": 45,
   "id": "28c49e4e",
   "metadata": {},
   "outputs": [
    {
     "name": "stdout",
     "output_type": "stream",
     "text": [
      "이름을 입력하시오:q\n",
      "검색할 이름을 입력하세요:d\n",
      "입력하신 자료의 이름은 없습니다.\n",
      "종료\n"
     ]
    }
   ],
   "source": [
    "while True:\n",
    "    \n",
    "    input_name = input(\"이름을 입력하시오:\")\n",
    "    \n",
    "    \n",
    "    if input_name != \"q\" and input_name != \"Q\": # input_name != \"q\",\"Q\"\n",
    "        \n",
    "        input_score = input(\"성적을 입력하시오:\")\n",
    "        input_dict = {}\n",
    "        input_dict[input_name] = input_score\n",
    "        print(input_dict)\n",
    "        \n",
    "    else:\n",
    "        \n",
    "        input_search = input(\"검색할 이름을 입력하세요:\")\n",
    "        \n",
    "        if input_search in input_dict:\n",
    "            print(f\"{input_search} : {input_dict[input_search]}\")\n",
    "        else:\n",
    "            print(\"입력하신 자료의 이름은 없습니다.\")\n",
    "        print(\"종료\")\n",
    "        break\n",
    "    "
   ]
  },
  {
   "cell_type": "code",
   "execution_count": 51,
   "id": "abde5eb7",
   "metadata": {
    "scrolled": true
   },
   "outputs": [
    {
     "name": "stdout",
     "output_type": "stream",
     "text": [
      "이름을 입력하시오:유지훈\n",
      "과목을 입력하세요:수학\n",
      "성적을 입력하시오:100\n",
      "과목을 입력하세요:영어\n",
      "성적을 입력하시오:100\n",
      "과목을 입력하세요:과학\n",
      "성적을 입력하시오:100\n",
      "{'유지훈': {'수학': '100', '영어': '100', '과학': '100'}, 2: {}, 3: {}}\n",
      "이름을 입력하시오:q\n",
      "종료\n"
     ]
    }
   ],
   "source": [
    "# 이름과 과목 성적을 입력 받아 딕셔너리에 저장한후\n",
    "# 학생별로 성적의 총합 평균을 취합\n",
    "# 전체 학생의 인원수, 과목별 평균을 구하세요\n",
    "\n",
    "while True:\n",
    "    \n",
    "    input_name = input(\"이름을 입력하시오:\")\n",
    "    \n",
    "    \n",
    "    if input_name != \"q\" and input_name != \"Q\": # input_name != \"q\",\"Q\"\n",
    "        \n",
    "        input_dict = {\"유지훈\":{}, 2:{}, 3:{}}\n",
    "        subj_cnt = 0\n",
    "        for i in range(3):\n",
    "            input_subject = input(\"과목을 입력하세요:\")\n",
    "            input_score = input(\"성적을 입력하시오:\")\n",
    "            input_dict[input_name][input_subject] = input_score\n",
    "        print(input_dict)\n",
    "        \n",
    "    else:\n",
    "        print(\"종료\")\n",
    "        break"
   ]
  },
  {
   "cell_type": "code",
   "execution_count": 91,
   "id": "14f575e5",
   "metadata": {},
   "outputs": [
    {
     "name": "stdout",
     "output_type": "stream",
     "text": [
      "이름을 입력하시오:유지훈\n",
      "성적을 입력하시오:10 20\n",
      "이름을 입력하시오:아지훈\n",
      "성적을 입력하시오:10 20\n",
      "이름을 입력하시오:q\n"
     ]
    }
   ],
   "source": [
    "## 1. 키보드에서 이름을 입력받아 'q'가 입력되면 입력종료\n",
    "#    국어 영어 점수를 입력받아 저장한 후 \n",
    "#    입력받은 점수의 갯수가 2가 아니거나 숫자가 아니면 다시 입력\n",
    "# 2. 입력 종료 후 검색하고자 하는 이름을 입력 받아 \n",
    "#    검색된 이름의 성적과, 총점, 평균 출력\n",
    "# 3. 총 입력된 학생의 인원수 출력\n",
    "# 4. 전체 학생의 성적의 합계를 기존의 자료에 추가\n",
    "# 5. 최고점을 받은 학생의 정보 출력\n",
    "students = {}\n",
    "while True:\n",
    "    \n",
    "    input_name = input(\"이름을 입력하시오:\")\n",
    "\n",
    "    if input_name == \"q\" or input_name == \"Q\":   \n",
    "        break\n",
    "        \n",
    "#     if input_name != \"q\" and input_name != \"Q\": # input_name != \"q\",\"Q\"\n",
    "        \n",
    "        ## 1.점수 받아 score_list 에 저장하는 코드/ 학생정보도  \n",
    "    input_scores = input(\"성적을 입력하시오:\")\n",
    "    scores = input_scores.split(\" \")\n",
    "    inspect_score = \"\".join(scores)\n",
    "\n",
    "    if inspect_score.isdigit() and len(scores) ==2:\n",
    "\n",
    "            students[input_name] = scores\n",
    "\n",
    "    else:\n",
    "        print(\"정수를 입력하거나 2개의 과목 점수를 입력\")\n",
    "        continue\n",
    "    ## 1.\n",
    "    \n",
    "    input_search = input(\"검색할 이름을 입력하세요:\")\n",
    "\n",
    "    if input_search in students:\n",
    "        print(f\"{input_search} : {input_dict[input_search]}\")\n",
    "\n",
    "\n",
    "    else:\n",
    "        print(\"입력하신 자료의 이름은 없습니다.\")\n",
    "    print(\"종료\")\n",
    "    break\n",
    "    \n",
    "\n",
    "\n",
    " "
   ]
  },
  {
   "cell_type": "code",
   "execution_count": 92,
   "id": "b2a0c436",
   "metadata": {
    "scrolled": true
   },
   "outputs": [
    {
     "ename": "IndentationError",
     "evalue": "unexpected indent (3856646121.py, line 3)",
     "output_type": "error",
     "traceback": [
      "\u001b[1;36m  Input \u001b[1;32mIn [92]\u001b[1;36m\u001b[0m\n\u001b[1;33m    input_search = input(\"검색할 이름을 입력하세요:\")\u001b[0m\n\u001b[1;37m    ^\u001b[0m\n\u001b[1;31mIndentationError\u001b[0m\u001b[1;31m:\u001b[0m unexpected indent\n"
     ]
    }
   ],
   "source": [
    "       \n",
    "#     else:\n",
    "        \n",
    "    "
   ]
  },
  {
   "cell_type": "code",
   "execution_count": 1,
   "id": "43cec4dd",
   "metadata": {},
   "outputs": [
    {
     "name": "stdout",
     "output_type": "stream",
     "text": [
      "Defaulting to user installation because normal site-packages is not writeable\n",
      "Requirement already satisfied: pygame in c:\\users\\hpe\\appdata\\roaming\\python\\python39\\site-packages (2.1.2)\n",
      "Note: you may need to restart the kernel to use updated packages.\n"
     ]
    }
   ],
   "source": []
  }
 ],
 "metadata": {
  "kernelspec": {
   "display_name": "Python 3 (ipykernel)",
   "language": "python",
   "name": "python3"
  },
  "language_info": {
   "codemirror_mode": {
    "name": "ipython",
    "version": 3
   },
   "file_extension": ".py",
   "mimetype": "text/x-python",
   "name": "python",
   "nbconvert_exporter": "python",
   "pygments_lexer": "ipython3",
   "version": "3.9.12"
  }
 },
 "nbformat": 4,
 "nbformat_minor": 5
}
