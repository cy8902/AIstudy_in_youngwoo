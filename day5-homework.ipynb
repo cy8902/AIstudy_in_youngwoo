{
 "cells": [
  {
   "cell_type": "code",
   "execution_count": 18,
   "id": "3d081328",
   "metadata": {},
   "outputs": [
    {
     "name": "stdout",
     "output_type": "stream",
     "text": [
      "이름과 국영수 점수를 입력:유지훈 100 100 100\n",
      "이름과 국영수 점수를 입력:q\n",
      "=======학생목록========\n",
      "이름\t총점\t평균\n",
      "유지훈\t300\t100.00\n",
      "=======================\n",
      "가장 성적이 좋은 학생은 {}\n"
     ]
    }
   ],
   "source": [
    "# 학생의 이름과 점수 (r국영수)를 입력 받아 저장한 후\n",
    "# 저장된 자료의 이름과 각 학생의 성적, 총점, 평균을 구하세요\n",
    "# 가장 성적이 좋은 학생의 이름과 총점을 출력\n",
    "# 가장 성적이 나쁜 학생의 이름과 총점을 출력\n",
    "# 전체 학생의 인원수와 전체 평균을 구하세요 (소수점 두자리 까지)\n",
    "# 조건: Class 사용, 모든 문제는 함수로 구현 \n",
    "\n",
    "class Student:\n",
    "    \n",
    "    students = []\n",
    "    count = 0\n",
    "    \n",
    "    @classmethod\n",
    "    def print(cls):\n",
    "        print(\"=======학생목록========\")\n",
    "        print(\"이름\\t총점\\t평균\")\n",
    "        for student in Student.students:\n",
    "            print(str(student))\n",
    "        print(\"=======================\")\n",
    "    \n",
    "    def __init__(self,name,korean,eng,math):\n",
    "        self.name = name\n",
    "        self.korean = korean\n",
    "        self.eng = eng\n",
    "        self.math = math\n",
    "        # students 리스트에 값 추가\n",
    "        Student.students.append(self)\n",
    "        Student.count += 1\n",
    "        \n",
    "    def get_sum(self):\n",
    "        return self.korean + self.eng + self.math\n",
    "\n",
    "    def get_avr(self):\n",
    "        return self.get_sum() / 3\n",
    "    \n",
    "    def __str__(self):\n",
    "        return \"{}\\t{}\\t{:.2f}\".format(self.name,self.get_sum(),self.get_avr())\n",
    "        \n",
    "data_set = []   ## 데이터 받아줄 자료 선언\n",
    "name, korean, english, math = 0,0,0,0\n",
    "\n",
    "\n",
    "def input_func():  ## 자료 입력 함수\n",
    "    while True:\n",
    "        input_data = input(\"이름과 국영수 점수를 입력:\")  ## input 데이타\n",
    "        if input_data == \"q\" or input_data == \"Q\":\n",
    "            break\n",
    "            ## data_set 해서 인스턴스 생성자 과정\n",
    "\n",
    "        data_set = input_data.split(\" \")\n",
    "        name,korean,english,math = data_set[0], int(data_set[1]), \\\n",
    "        int(data_set[2]), int(data_set[3])\n",
    "        Student(name,korean,english,math)   ## 인스턴스\n",
    "        \n",
    "def search_min\n",
    "    \n",
    "    \n",
    "Student.print()\n",
    "Student.com_stui()  # 리스트 평탄화\n",
    "\n",
    "# max_stu = max(Student.com_stui)\n",
    "# min_stu = min(Student.com_stu)\n",
    "\n",
    "print(f\"가장 성적이 좋은 학생은 {} 평균은 {max_stu}\")"
   ]
  },
  {
   "cell_type": "code",
   "execution_count": 20,
   "id": "1353100e",
   "metadata": {},
   "outputs": [
    {
     "data": {
      "text/plain": [
       "[[1, 3]]"
      ]
     },
     "execution_count": 20,
     "metadata": {},
     "output_type": "execute_result"
    }
   ],
   "source": [
    "i = []\n",
    "\n",
    "i.append([1,3])\n",
    "i\n"
   ]
  }
 ],
 "metadata": {
  "kernelspec": {
   "display_name": "Python 3 (ipykernel)",
   "language": "python",
   "name": "python3"
  },
  "language_info": {
   "codemirror_mode": {
    "name": "ipython",
    "version": 3
   },
   "file_extension": ".py",
   "mimetype": "text/x-python",
   "name": "python",
   "nbconvert_exporter": "python",
   "pygments_lexer": "ipython3",
   "version": "3.9.12"
  }
 },
 "nbformat": 4,
 "nbformat_minor": 5
}
