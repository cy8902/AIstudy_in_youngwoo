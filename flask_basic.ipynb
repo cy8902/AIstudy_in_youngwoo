{
 "cells": [
  {
   "cell_type": "code",
   "execution_count": 1,
   "id": "d6c232fd",
   "metadata": {},
   "outputs": [],
   "source": [
    "from flask import Flask\n",
    "from urllib import request\n",
    "app = Flask(__name__)\n",
    "\n",
    "@app.route('/') #데코레이션\n",
    "def index():\n",
    "    return 'Hello World!'"
   ]
  },
  {
   "cell_type": "code",
   "execution_count": 15,
   "id": "8bf1b6ed",
   "metadata": {},
   "outputs": [
    {
     "name": "stdout",
     "output_type": "stream",
     "text": [
      "6 2 5\n",
      "600\n"
     ]
    }
   ],
   "source": [
    "A,B,C = map(int,input().split())\n",
    "lists = [A,B,C]\n",
    "\n",
    "# 셋다 같을때 (동작)\n",
    "if (A == B) and (B == C):\n",
    "    print(10000+A*1000)\n",
    "elif (A==B) or (B==C) or (C==A): #두개만 같을때(동작)\n",
    "    if A==B:\n",
    "        print(1000+A*100)\n",
    "    elif B==C:\n",
    "        print(1000+B*100)\n",
    "    elif C==A:\n",
    "        print(1000+C*100)       \n",
    "elif (A!=B) and (B!=C) and (C!=A): # 셋다 다를때 (비동작)\n",
    "        print(max(lists)*100)   # 몰랐던 부분"
   ]
  },
  {
   "cell_type": "code",
   "execution_count": 13,
   "id": "cd9a3b17",
   "metadata": {},
   "outputs": [
    {
     "name": "stdout",
     "output_type": "stream",
     "text": [
      "3\n",
      "<class 'int'>\n"
     ]
    }
   ],
   "source": [
    "import math \n",
    "\n",
    "a = [1,2,3]\n",
    "print(max(a))\n",
    "print(type(max(a)))"
   ]
  },
  {
   "cell_type": "code",
   "execution_count": 21,
   "id": "afd9c7ed",
   "metadata": {},
   "outputs": [
    {
     "name": "stdout",
     "output_type": "stream",
     "text": [
      "2\n",
      "2 * 1= 2\n",
      "2 * 2= 4\n",
      "2 * 3= 6\n",
      "2 * 4= 8\n",
      "2 * 5= 10\n",
      "2 * 6= 12\n",
      "2 * 7= 14\n",
      "2 * 8= 16\n",
      "2 * 9= 18\n"
     ]
    }
   ],
   "source": [
    "N = int(input())\n",
    "for i in range(1,10):\n",
    "    print(f\"{N} * {i} =\",N*i) "
   ]
  },
  {
   "cell_type": "code",
   "execution_count": 22,
   "id": "daf95bc7",
   "metadata": {},
   "outputs": [
    {
     "name": "stdout",
     "output_type": "stream",
     "text": [
      "5\n",
      "1 1\n",
      "2\n",
      "2 3\n",
      "5\n",
      "3 4\n",
      "7\n",
      "9 8\n",
      "17\n",
      "5 2\n",
      "7\n"
     ]
    }
   ],
   "source": [
    "T = int(input())\n",
    "\n",
    "\n",
    "for i in range(T):\n",
    "    A,B = map(int, input().split())\n",
    "    print(A+B)"
   ]
  },
  {
   "cell_type": "code",
   "execution_count": 23,
   "id": "fad4e9b4",
   "metadata": {},
   "outputs": [
    {
     "name": "stdout",
     "output_type": "stream",
     "text": [
      "3\n",
      "6\n"
     ]
    }
   ],
   "source": [
    "n = int(input())\n",
    "count = 0\n",
    "\n",
    "for i in range(n+1):\n",
    "    count += i\n",
    "print(count)"
   ]
  },
  {
   "cell_type": "code",
   "execution_count": null,
   "id": "28131485",
   "metadata": {},
   "outputs": [],
   "source": [
    "a = int(input())\n"
   ]
  },
  {
   "cell_type": "code",
   "execution_count": null,
   "id": "ee46014e",
   "metadata": {},
   "outputs": [],
   "source": []
  },
  {
   "cell_type": "code",
   "execution_count": null,
   "id": "f53d3cc3",
   "metadata": {},
   "outputs": [],
   "source": []
  },
  {
   "cell_type": "code",
   "execution_count": null,
   "id": "a5101572",
   "metadata": {},
   "outputs": [],
   "source": []
  }
 ],
 "metadata": {
  "kernelspec": {
   "display_name": "Python 3 (ipykernel)",
   "language": "python",
   "name": "python3"
  },
  "language_info": {
   "codemirror_mode": {
    "name": "ipython",
    "version": 3
   },
   "file_extension": ".py",
   "mimetype": "text/x-python",
   "name": "python",
   "nbconvert_exporter": "python",
   "pygments_lexer": "ipython3",
   "version": "3.9.12"
  }
 },
 "nbformat": 4,
 "nbformat_minor": 5
}
