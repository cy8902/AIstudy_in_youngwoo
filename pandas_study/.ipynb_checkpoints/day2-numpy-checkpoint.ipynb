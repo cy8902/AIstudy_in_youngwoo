{
 "cells": [
  {
   "cell_type": "code",
   "execution_count": 1,
   "id": "911f8c99",
   "metadata": {},
   "outputs": [],
   "source": [
    "# numpy : 배열등을 처리하기 쉽게 제공하는 모듈\n",
    "import numpy as np"
   ]
  },
  {
   "cell_type": "code",
   "execution_count": 4,
   "id": "e4aeaa15",
   "metadata": {},
   "outputs": [
    {
     "name": "stdout",
     "output_type": "stream",
     "text": [
      "<class 'numpy.ndarray'> [ 0  1  2  3  4  5  6  7  8  9 10 11 12 13 14]\n"
     ]
    }
   ],
   "source": [
    "arr = np.arange(15)   #\n",
    "print(type(arr),arr)\n"
   ]
  },
  {
   "cell_type": "code",
   "execution_count": null,
   "id": "f9adaf49",
   "metadata": {},
   "outputs": [],
   "source": [
    "list_a = list(range(15))  # np.arange(start,stop,step)\n",
    "print(type(list_a),list_a)"
   ]
  },
  {
   "cell_type": "code",
   "execution_count": 18,
   "id": "9d9fcee8",
   "metadata": {},
   "outputs": [
    {
     "name": "stdout",
     "output_type": "stream",
     "text": [
      "2\n",
      "(3, 5)\n",
      "15\n",
      "int32 4\n",
      "[[ 0  1  2  3  4]\n",
      " [ 5  6  7  8  9]\n",
      " [10 11 12 13 14]]\n"
     ]
    },
    {
     "data": {
      "text/plain": [
       "array([ 0,  1,  2,  3,  4,  5,  6,  7,  8,  9, 10, 11, 12, 13, 14])"
      ]
     },
     "execution_count": 18,
     "metadata": {},
     "output_type": "execute_result"
    }
   ],
   "source": [
    "# 차원 변경 : array.reshape(행, 열)\n",
    "arr = np.arange(15) \n",
    "arr = arr.reshape(3,5) \n",
    "print(arr.ndim)# 차원\n",
    "print(arr.shape) # 배열의 형태\n",
    "print(arr.size) # 배열의 전체 데이터 갯수\n",
    "print(arr.dtype.name, arr.dtype.itemsize) # 데이터 타입의 이름, 저장 사이즈\n",
    "print(arr)\n",
    "\n",
    "arr.reshape(arr.size)    # 리스트 평탄화"
   ]
  },
  {
   "cell_type": "code",
   "execution_count": 13,
   "id": "9b731949",
   "metadata": {},
   "outputs": [
    {
     "data": {
      "text/html": [
       "<div>\n",
       "<style scoped>\n",
       "    .dataframe tbody tr th:only-of-type {\n",
       "        vertical-align: middle;\n",
       "    }\n",
       "\n",
       "    .dataframe tbody tr th {\n",
       "        vertical-align: top;\n",
       "    }\n",
       "\n",
       "    .dataframe thead th {\n",
       "        text-align: right;\n",
       "    }\n",
       "</style>\n",
       "<table border=\"1\" class=\"dataframe\">\n",
       "  <thead>\n",
       "    <tr style=\"text-align: right;\">\n",
       "      <th></th>\n",
       "      <th>영</th>\n",
       "      <th>영</th>\n",
       "      <th>영</th>\n",
       "      <th>영</th>\n",
       "      <th>영</th>\n",
       "    </tr>\n",
       "  </thead>\n",
       "  <tbody>\n",
       "    <tr>\n",
       "      <th>하나</th>\n",
       "      <td>0</td>\n",
       "      <td>1</td>\n",
       "      <td>2</td>\n",
       "      <td>3</td>\n",
       "      <td>4</td>\n",
       "    </tr>\n",
       "    <tr>\n",
       "      <th>둘</th>\n",
       "      <td>5</td>\n",
       "      <td>6</td>\n",
       "      <td>7</td>\n",
       "      <td>8</td>\n",
       "      <td>9</td>\n",
       "    </tr>\n",
       "    <tr>\n",
       "      <th>셋</th>\n",
       "      <td>10</td>\n",
       "      <td>11</td>\n",
       "      <td>12</td>\n",
       "      <td>13</td>\n",
       "      <td>14</td>\n",
       "    </tr>\n",
       "  </tbody>\n",
       "</table>\n",
       "</div>"
      ],
      "text/plain": [
       "     영   영   영   영   영\n",
       "하나   0   1   2   3   4\n",
       "둘    5   6   7   8   9\n",
       "셋   10  11  12  13  14"
      ]
     },
     "execution_count": 13,
     "metadata": {},
     "output_type": "execute_result"
    }
   ],
   "source": [
    "import pandas as pd\n",
    "df = pd.DataFrame(arr,columns = [\"영\",\"영\",\"영\",\"영\",\"영\"], index = [\"하나\",\"둘\",\"셋\"])\n",
    "df"
   ]
  },
  {
   "cell_type": "code",
   "execution_count": 107,
   "id": "a75cf290",
   "metadata": {},
   "outputs": [
    {
     "name": "stdout",
     "output_type": "stream",
     "text": [
      "[ 0  1  2  3  4  5  6  7  8  9 10 11 12 13 14]\n"
     ]
    },
    {
     "data": {
      "text/plain": [
       "array([[1, 2, 3],\n",
       "       [4, 5, 6]])"
      ]
     },
     "execution_count": 107,
     "metadata": {},
     "output_type": "execute_result"
    }
   ],
   "source": [
    "# 리스트를 array로 변경\n",
    "arr_list = np.array(list_a)\n",
    "print(arr_list)\n",
    "\n",
    "\n",
    "two_list = np.array([[1,2,3],[4,5,6]])\n",
    "two_list\n",
    "\n",
    "# # 각 array의 차원, 배열 형식 , 전체 사이즈, 데이터타입 출력\n",
    "# print(arr_list.ndim, arr_list.shape,arr_list.size,arr_list.dtype)\n",
    "# print(two_list.ndim, two_list.shape,two_list.size,two_list.dtype)"
   ]
  },
  {
   "cell_type": "code",
   "execution_count": 40,
   "id": "175217b4",
   "metadata": {},
   "outputs": [
    {
     "name": "stdout",
     "output_type": "stream",
     "text": [
      "[[0. 0. 0. 0.]\n",
      " [0. 0. 0. 0.]\n",
      " [0. 0. 0. 0.]]\n",
      "[[0. 0. 0.]\n",
      " [0. 0. 0.]]\n",
      "\n",
      "[[0 0 0]\n",
      " [0 0 0]]\n",
      "\n",
      "[['' '' '']\n",
      " ['' '' '']]\n",
      "\n",
      "[[0. 0. 0.]\n",
      " [0. 0. 0.]]\n",
      "\n",
      "[[0 0 0]\n",
      " [0 0 0]] 8\n",
      "\n",
      "[[1. 1. 1.]\n",
      " [1. 1. 1.]]\n"
     ]
    },
    {
     "data": {
      "text/plain": [
       "array([[0., 0., 0.],\n",
       "       [0., 0., 0.]])"
      ]
     },
     "execution_count": 40,
     "metadata": {},
     "output_type": "execute_result"
    }
   ],
   "source": [
    "# array 생성\n",
    "\n",
    "a = np.empty((3,4))  # 메모리에 공간만! 할당 (값은 초기화 시키지 않아요!)\n",
    "print(a)\n",
    "a\n",
    "\n",
    "# 초기값을 0으로 부여하면서 배열을 생성\n",
    "a = np.zeros((2,3))\n",
    "print(a)\n",
    "print()\n",
    "a = np.zeros((2,3),dtype = \"i\") # 데이터 타입을 int로\n",
    "print(a)\n",
    "print()\n",
    "\n",
    "a = np.zeros((2,3),dtype = \"U4\") # 데이터 타입을 문자로\n",
    "print(a)\n",
    "print()\n",
    "\n",
    "a = np.zeros((2,3),dtype = \"f\") # 데이터 타입을 float로\n",
    "print(a)\n",
    "print()\n",
    "\n",
    "a = np.zeros((2,3),dtype = \"i8\") # 데이터 타입을 문자로\n",
    "print(a, a.dtype.itemsize)\n",
    "print()\n",
    "\n",
    "#데이터 초기값을 1로 주면서 배열 생성\n",
    "a = np.ones((2,3))\n",
    "print(a)\n",
    "\n",
    "b = np.zeros_like(a)\n",
    "b"
   ]
  },
  {
   "cell_type": "code",
   "execution_count": 42,
   "id": "8ed68280",
   "metadata": {},
   "outputs": [],
   "source": [
    "# array 연산\n",
    "\n",
    "x1 = np.array([1.0, 2.0, 3.0])\n",
    "y1 = np.array([5.0, 10.0, 15.0])\n",
    "x2 = np.array([[1.0, 2.0],[ 3.0, 4.0]]) \n",
    "y2 = np.array([[5.0,10.0],[15.0,20.0]]) \n",
    "z1 = np.array([-1.0, -2.0])\n",
    "z2 = np.array([[5.0],[10.0],[15.0]])\n",
    "\n"
   ]
  },
  {
   "cell_type": "code",
   "execution_count": 54,
   "id": "5c26f407",
   "metadata": {
    "scrolled": true
   },
   "outputs": [
    {
     "name": "stdout",
     "output_type": "stream",
     "text": [
      "[ 6. 12. 18.]\n",
      "\n",
      "[[ 5. 20.]\n",
      " [45. 80.]]\n",
      "\n",
      "[[ -5.  -5.]\n",
      " [-15. -10.]]\n",
      "\n",
      "[[ 4.  3.]\n",
      " [ 9.  8.]\n",
      " [14. 13.]]\n",
      "\n",
      "[1. 4. 9.]\n",
      "[False  True  True]\n",
      "\n",
      "[1. 2. 3. 4.]\n"
     ]
    },
    {
     "data": {
      "text/plain": [
       "array([[1., 2.],\n",
       "       [3., 4.]])"
      ]
     },
     "execution_count": 54,
     "metadata": {},
     "output_type": "execute_result"
    }
   ],
   "source": [
    "# array basic 연산\n",
    "print(x1 + y1)\n",
    "print()\n",
    "\n",
    "print(x2 * y2)\n",
    "print()\n",
    "\n",
    "print(y2 / z1)\n",
    "print()\n",
    "\n",
    "# array broadcast 연산\n",
    "print(z1 + z2)   # 차원이 다를때 행렬 연산 진행한다 ()\n",
    "print()\n",
    "print(x1**2)\n",
    "print(x1 >= 2)\n",
    "print()\n",
    "# shape\n",
    "# x2 = np.array([[1.0, 2.0],[ 3.0, 4.0]]\n",
    "x2.reshape(x2.size)\n",
    "print(x2.flatten()) # 1 차원으로 평탄화\n",
    "\n",
    "x2.flatten().reshape(2,2) # 다시 (2,2) 행렬로 만들어줌 # reshape 평탄화가 아니다!"
   ]
  },
  {
   "cell_type": "code",
   "execution_count": 63,
   "id": "e845cc89",
   "metadata": {},
   "outputs": [
    {
     "name": "stdout",
     "output_type": "stream",
     "text": [
      "[ 0  1  4  9 16 25 36 49 64 81]\n",
      "\n",
      "4\n",
      "[ 4  9 16]\n",
      "\n",
      "[ 0  4 16 36 64]\n",
      "[  0   1  -4   9 -16  25  36  49  64  81]\n",
      "\n",
      "[ 81  64  49  36  25 -16   9  -4   1   0]\n",
      "0 1 -4 9 -16 25 36 49 64 81 "
     ]
    }
   ],
   "source": [
    "# indexing, slicing, iterating\n",
    "a = np.arange(10) ** 2\n",
    "print(a)\n",
    "print()\n",
    "\n",
    "# 2번째 자료를 출력\n",
    "print(a[2])\n",
    "\n",
    "# 4부터16 까지 출력\n",
    "print(a[2:5]) # [start:stop] stop은 포함하지 않음\n",
    "print()\n",
    "#처음부터 끝까지 2칸씩 증가시키면서 출력\n",
    "print(a[::2])\n",
    "\n",
    "a[0:6:2] = -a[0:6:2] #일대일 대응해서 -값을넣어준다.\n",
    "print(a)\n",
    "print()\n",
    "# 뒤에서 부터 출력\n",
    "print(a[::-1])\n",
    "\n",
    "# for 문을 활용하여 출력 ( 그럼 역방향은?)\n",
    "for i in a:\n",
    "    print(i,end = \" \")"
   ]
  },
  {
   "cell_type": "code",
   "execution_count": 82,
   "id": "9b8bf087",
   "metadata": {},
   "outputs": [
    {
     "name": "stdout",
     "output_type": "stream",
     "text": [
      "[[ 1  2  3  4  5]\n",
      " [ 6  7  8  9 10]\n",
      " [11 12 13 14 15]\n",
      " [16 17 18 19 20]]\n",
      "7\n",
      "[2 7]\n",
      "20\n",
      "[ 6  7  8  9 10]\n",
      "[ 2  7 12 17]\n",
      "[1 9]\n"
     ]
    }
   ],
   "source": [
    "# qodufdmf rjator\n",
    "a = np.arange(1,20+1,1).reshape(4,5)\n",
    "print(a)\n",
    "\n",
    "\n",
    "# 배열의 각 원소검색 : array[행,열]\n",
    "print(a[1,1])\n",
    "print(a[0:2,1]) # 0행, 1행의 1열만\n",
    "\n",
    "#마지막 행과 마지막 열의 자료 출력\n",
    "# 1행의 모든 열 검색\n",
    "print(a[-1,-1])\n",
    "print(a[1,])\n",
    "print(a[ : ,1])\n",
    "print(a[[0,1],[0,3]])   # a[[행데이터],[열데이터]]"
   ]
  },
  {
   "cell_type": "code",
   "execution_count": 90,
   "id": "ff587b36",
   "metadata": {},
   "outputs": [
    {
     "name": "stdout",
     "output_type": "stream",
     "text": [
      "   0  1  2\n",
      "0  1  2  3\n",
      "1  4  5  6\n",
      "2  7  8  9\n"
     ]
    },
    {
     "data": {
      "text/html": [
       "<div>\n",
       "<style scoped>\n",
       "    .dataframe tbody tr th:only-of-type {\n",
       "        vertical-align: middle;\n",
       "    }\n",
       "\n",
       "    .dataframe tbody tr th {\n",
       "        vertical-align: top;\n",
       "    }\n",
       "\n",
       "    .dataframe thead th {\n",
       "        text-align: right;\n",
       "    }\n",
       "</style>\n",
       "<table border=\"1\" class=\"dataframe\">\n",
       "  <thead>\n",
       "    <tr style=\"text-align: right;\">\n",
       "      <th></th>\n",
       "      <th>0</th>\n",
       "      <th>1</th>\n",
       "    </tr>\n",
       "  </thead>\n",
       "  <tbody>\n",
       "    <tr>\n",
       "      <th>1</th>\n",
       "      <td>4</td>\n",
       "      <td>5</td>\n",
       "    </tr>\n",
       "    <tr>\n",
       "      <th>2</th>\n",
       "      <td>7</td>\n",
       "      <td>8</td>\n",
       "    </tr>\n",
       "  </tbody>\n",
       "</table>\n",
       "</div>"
      ],
      "text/plain": [
       "   0  1\n",
       "1  4  5\n",
       "2  7  8"
      ]
     },
     "execution_count": 90,
     "metadata": {},
     "output_type": "execute_result"
    }
   ],
   "source": [
    "a = [[1,2,3],[4,5,6],[7,8,9]]\n",
    "df = pd.DataFrame(a)\n",
    "print(df)\n",
    "df.iloc[[1,2],[0,1]]"
   ]
  },
  {
   "cell_type": "code",
   "execution_count": 97,
   "id": "68a26101",
   "metadata": {},
   "outputs": [
    {
     "data": {
      "text/plain": [
       "array([[ 4.,  3.],\n",
       "       [ 9.,  8.],\n",
       "       [14., 13.]])"
      ]
     },
     "execution_count": 97,
     "metadata": {},
     "output_type": "execute_result"
    }
   ],
   "source": [
    "# np.ndarray(shape, buffer=)\n",
    "a = np.ndarray((3,2), buffer = np.arange(6) dtype=int) ## dtype = int로 안주면 \n",
    "# 8byte로 가져와서 숫자 두개씩 물림\n",
    "# ndarray 로 빈껍데기 만들수 있는데 값이 할당되어 있다."
   ]
  },
  {
   "cell_type": "code",
   "execution_count": 98,
   "id": "f9f3b121",
   "metadata": {},
   "outputs": [
    {
     "data": {
      "text/html": [
       "<div>\n",
       "<style scoped>\n",
       "    .dataframe tbody tr th:only-of-type {\n",
       "        vertical-align: middle;\n",
       "    }\n",
       "\n",
       "    .dataframe tbody tr th {\n",
       "        vertical-align: top;\n",
       "    }\n",
       "\n",
       "    .dataframe thead th {\n",
       "        text-align: right;\n",
       "    }\n",
       "</style>\n",
       "<table border=\"1\" class=\"dataframe\">\n",
       "  <thead>\n",
       "    <tr style=\"text-align: right;\">\n",
       "      <th></th>\n",
       "      <th>수학</th>\n",
       "      <th>영어</th>\n",
       "      <th>음악</th>\n",
       "      <th>체육</th>\n",
       "    </tr>\n",
       "  </thead>\n",
       "  <tbody>\n",
       "    <tr>\n",
       "      <th>서준</th>\n",
       "      <td>90</td>\n",
       "      <td>98</td>\n",
       "      <td>85</td>\n",
       "      <td>100</td>\n",
       "    </tr>\n",
       "    <tr>\n",
       "      <th>우현</th>\n",
       "      <td>80</td>\n",
       "      <td>89</td>\n",
       "      <td>95</td>\n",
       "      <td>90</td>\n",
       "    </tr>\n",
       "    <tr>\n",
       "      <th>인아</th>\n",
       "      <td>70</td>\n",
       "      <td>95</td>\n",
       "      <td>100</td>\n",
       "      <td>90</td>\n",
       "    </tr>\n",
       "  </tbody>\n",
       "</table>\n",
       "</div>"
      ],
      "text/plain": [
       "    수학  영어   음악   체육\n",
       "서준  90  98   85  100\n",
       "우현  80  89   95   90\n",
       "인아  70  95  100   90"
      ]
     },
     "execution_count": 98,
     "metadata": {},
     "output_type": "execute_result"
    }
   ],
   "source": [
    "\n",
    "# 실험용으로 이해하기 위해 자료를 가져옴\n",
    "exam_data = {'수학' : [ 90, 80, 70], '영어' : [ 98, 89, 95],\n",
    "             '음악' : [ 85, 95, 100], '체육' : [ 100, 90, 90]}\n",
    "\n",
    "df = pd.DataFrame(exam_data,index = [\"서준\",\"우현\",\"인아\"])\n",
    "df\n"
   ]
  },
  {
   "cell_type": "code",
   "execution_count": 102,
   "id": "b764aabc",
   "metadata": {},
   "outputs": [
    {
     "data": {
      "text/html": [
       "<div>\n",
       "<style scoped>\n",
       "    .dataframe tbody tr th:only-of-type {\n",
       "        vertical-align: middle;\n",
       "    }\n",
       "\n",
       "    .dataframe tbody tr th {\n",
       "        vertical-align: top;\n",
       "    }\n",
       "\n",
       "    .dataframe thead th {\n",
       "        text-align: right;\n",
       "    }\n",
       "</style>\n",
       "<table border=\"1\" class=\"dataframe\">\n",
       "  <thead>\n",
       "    <tr style=\"text-align: right;\">\n",
       "      <th></th>\n",
       "      <th>영어</th>\n",
       "      <th>음악</th>\n",
       "      <th>체육</th>\n",
       "    </tr>\n",
       "  </thead>\n",
       "  <tbody>\n",
       "    <tr>\n",
       "      <th>인아</th>\n",
       "      <td>95</td>\n",
       "      <td>100</td>\n",
       "      <td>90</td>\n",
       "    </tr>\n",
       "  </tbody>\n",
       "</table>\n",
       "</div>"
      ],
      "text/plain": [
       "    영어   음악  체육\n",
       "인아  95  100  90"
      ]
     },
     "execution_count": 102,
     "metadata": {},
     "output_type": "execute_result"
    }
   ],
   "source": [
    "df.drop([\"서준\",\"우현\"], axis=0,inplace = True)\n",
    "df.drop([\"수학\"], a/;xis=1, inplace = True)\n",
    "df"
   ]
  },
  {
   "cell_type": "code",
   "execution_count": 106,
   "id": "a2b5e12a",
   "metadata": {},
   "outputs": [
    {
     "name": "stdout",
     "output_type": "stream",
     "text": [
      "26\n",
      "-24 23 10.734628476137871 115.23224852071006\n",
      "5.0 0.0\n"
     ]
    }
   ],
   "source": [
    "x = np.array([18,   5,  10,  23,  19,  -8,  10,   0,   0,   5,   2,  15,   8,\n",
    "              2,   5,   4,  15,  -1,   4,  -7, -24,   7,   9,  -6,  23, -13])\n",
    "\n",
    "print(len(x))\n",
    "print(x.min(),x.max(),x.std(),x.var()) # 표준편차\n",
    "print(np.median(x),np.percentile(x,25))  # 왜 x.median이 아닐까?"
   ]
  },
  {
   "cell_type": "code",
   "execution_count": 147,
   "id": "bf898697",
   "metadata": {},
   "outputs": [
    {
     "name": "stdout",
     "output_type": "stream",
     "text": [
      "[0.7819296  0.31346703 0.09066788 0.93488741 0.01746235 0.69934213\n",
      " 0.90405772 0.50427901 0.89963463 0.1048777 ]\n",
      "[-0.70012369  0.85055862 -0.61816581 -0.70971331 -0.35736856  0.34383864\n",
      " -0.74669142  1.74313461 -0.59187886  0.66461236]\n",
      "[0 5 9 5 6 5 3 9 2 8]\n",
      "[13 11 17 11 13 18 17 18 14 10]\n"
     ]
    }
   ],
   "source": [
    "# 난수 생성 \n",
    "#read : 0 부터 1 서이의 균일분포(정규분포)로 난수 생성\n",
    "print(np.random.rand(10))\n",
    "print(np.random.randn(10))\n",
    "print(np.random.randint(10,size=10))\n",
    "print(np.random.randint(10,20,size=10))"
   ]
  },
  {
   "cell_type": "code",
   "execution_count": null,
   "id": "7a5f6901",
   "metadata": {},
   "outputs": [],
   "source": [
    "# 난수 생성\n",
    "rand : 0 부터 1사이의 균일분포(정규분포)로 난수생성\n",
    "randn : 기댓값이 0이고 표"
   ]
  },
  {
   "cell_type": "code",
   "execution_count": 149,
   "id": "ad5a2a8f",
   "metadata": {},
   "outputs": [
    {
     "name": "stdout",
     "output_type": "stream",
     "text": [
      "[9]\n"
     ]
    }
   ],
   "source": [
    "# 실습문제 \n",
    "# 다음 행렬과 같은 배열이 있다.1\n",
    "# x = np.array(arange(1:20))\n",
    "# 이 배열에서 3의 배수를 찾아라\n",
    "# 이 배열에서 4로 나누면 1이 남는 수를 찾아라\n",
    "# 이 배열에서 3으로 나누면 나누어지고 4로 나누면 1이 남는 수를 찾아라.\n",
    "\n",
    "x = np.arange(1,20+1)\n",
    "x[x%3 == 0]   # 불립마스크\n",
    "x[x%4 == 1]\n",
    "print(x[(x%3 == 0) & (x%4 ==1)])"
   ]
  },
  {
   "cell_type": "code",
   "execution_count": null,
   "id": "5d80b4da",
   "metadata": {},
   "outputs": [],
   "source": []
  },
  {
   "cell_type": "code",
   "execution_count": null,
   "id": "9fa1bdb6",
   "metadata": {},
   "outputs": [],
   "source": []
  },
  {
   "cell_type": "code",
   "execution_count": null,
   "id": "30e9e260",
   "metadata": {},
   "outputs": [],
   "source": []
  },
  {
   "cell_type": "code",
   "execution_count": null,
   "id": "ad082c71",
   "metadata": {},
   "outputs": [],
   "source": []
  },
  {
   "cell_type": "code",
   "execution_count": null,
   "id": "4bbc8b5e",
   "metadata": {},
   "outputs": [],
   "source": []
  },
  {
   "cell_type": "code",
   "execution_count": null,
   "id": "20a7142a",
   "metadata": {},
   "outputs": [],
   "source": []
  },
  {
   "cell_type": "code",
   "execution_count": null,
   "id": "2be27c74",
   "metadata": {},
   "outputs": [],
   "source": []
  }
 ],
 "metadata": {
  "kernelspec": {
   "display_name": "Python 3 (ipykernel)",
   "language": "python",
   "name": "python3"
  },
  "language_info": {
   "codemirror_mode": {
    "name": "ipython",
    "version": 3
   },
   "file_extension": ".py",
   "mimetype": "text/x-python",
   "name": "python",
   "nbconvert_exporter": "python",
   "pygments_lexer": "ipython3",
   "version": "3.9.12"
  }
 },
 "nbformat": 4,
 "nbformat_minor": 5
}
