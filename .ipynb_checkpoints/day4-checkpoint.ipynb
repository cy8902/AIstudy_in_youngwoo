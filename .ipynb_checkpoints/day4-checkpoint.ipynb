{
 "cells": [
  {
   "cell_type": "code",
   "execution_count": 5,
   "id": "b053d4d8",
   "metadata": {},
   "outputs": [
    {
     "name": "stdout",
     "output_type": "stream",
     "text": [
      "6\n",
      "5\n",
      "4\n",
      "3\n",
      "2\n",
      "1\n"
     ]
    }
   ],
   "source": [
    "\n",
    "## 제너레이터 함수(reversed)\n",
    "\n",
    "nums = [1,2,3,4,5,6]\n",
    "\n",
    "r_nums = reversed(nums)\n",
    "\n",
    "print(next(r_nums))\n",
    "print(next(r_nums))\n",
    "print(next(r_nums))\n",
    "print(next(r_nums))\n",
    "print(next(r_nums))\n",
    "print(next(r_nums))\n"
   ]
  },
  {
   "cell_type": "code",
   "execution_count": 6,
   "id": "3b3ac685",
   "metadata": {},
   "outputs": [
    {
     "ename": "StopIteration",
     "evalue": "",
     "output_type": "error",
     "traceback": [
      "\u001b[1;31m---------------------------------------------------------------------------\u001b[0m",
      "\u001b[1;31mStopIteration\u001b[0m                             Traceback (most recent call last)",
      "Input \u001b[1;32mIn [6]\u001b[0m, in \u001b[0;36m<cell line: 1>\u001b[1;34m()\u001b[0m\n\u001b[1;32m----> 1\u001b[0m \u001b[38;5;28mprint\u001b[39m(\u001b[38;5;28;43mnext\u001b[39;49m\u001b[43m(\u001b[49m\u001b[43mr_nums\u001b[49m\u001b[43m)\u001b[49m)\n",
      "\u001b[1;31mStopIteration\u001b[0m: "
     ]
    }
   ],
   "source": [
    "## 1 다음에 값이 없어 오류\n",
    "print(next(r_nums))"
   ]
  },
  {
   "cell_type": "markdown",
   "id": "547c438f",
   "metadata": {},
   "source": [
    "# chap5. 함수"
   ]
  },
  {
   "cell_type": "code",
   "execution_count": 18,
   "id": "e75c6df8",
   "metadata": {},
   "outputs": [
    {
     "name": "stdout",
     "output_type": "stream",
     "text": [
      "Hello\n",
      "Hello\n",
      "Hello\n"
     ]
    }
   ],
   "source": [
    "# 1. 함수 만들기 : def 함수명():\n",
    "#      코드 작성 .....\n",
    "def print_3_times():  # 매개변수가 없는 함수!\n",
    "    print(\"Hello\")\n",
    "    print(\"Hello\")\n",
    "    print(\"Hello\")\n",
    "    \n",
    "\n",
    "# 매개변수가 있는 함수 정의\n",
    "def print_n_times(value, n):\n",
    "    for i in range(n):\n",
    "        print(value)\n",
    "        \n",
    "print_3_times()"
   ]
  },
  {
   "cell_type": "code",
   "execution_count": 17,
   "id": "ffc82cc4",
   "metadata": {
    "scrolled": true
   },
   "outputs": [
    {
     "name": "stdout",
     "output_type": "stream",
     "text": [
      "test\n",
      "test\n",
      "test\n"
     ]
    }
   ],
   "source": [
    "print_n_times(\"test\", 3)"
   ]
  },
  {
   "cell_type": "code",
   "execution_count": 20,
   "id": "ae588105",
   "metadata": {},
   "outputs": [
    {
     "name": "stdout",
     "output_type": "stream",
     "text": [
      "test\n",
      "hello\n",
      "python\n",
      "2\n",
      "test\n",
      "hello\n",
      "python\n",
      "2\n"
     ]
    }
   ],
   "source": [
    "# 가변 매개변수 (입력되는 변수가 무제한일때) 함수명(기본변수,*변수명)\n",
    "# (일반적인 매개변수 위치 순서 1. 일반  2. 가변 3. 기본)\n",
    "\n",
    "def print_n_var_times(n, *values, b = 2): #1. 일반 2. 가변 3. 기본\n",
    "    for i in range(n):\n",
    "        for value in values:\n",
    "            print(value)\n",
    "        print(b)\n",
    "        \n",
    "print_n_var_times(2, \"test\",\"hello\",\"python\")\n"
   ]
  },
  {
   "cell_type": "code",
   "execution_count": 21,
   "id": "5127a72f",
   "metadata": {},
   "outputs": [
    {
     "name": "stdout",
     "output_type": "stream",
     "text": [
      "60\n",
      "40\n",
      "220\n",
      "320\n"
     ]
    }
   ],
   "source": [
    "# 일반 \n",
    "\n",
    "def test_func(a, b = 10, c = 20):\n",
    "    print(a+b+c)\n",
    "    \n",
    "test_func(a = 10, b = 20, c = 30)\n",
    "test_func(10)\n",
    "test_func(c = 100, b = 20, a = 100)\n",
    "test_func(a = 10, c = 300)"
   ]
  },
  {
   "cell_type": "markdown",
   "id": "dc85f3fa",
   "metadata": {},
   "source": [
    " # 현재 가격을 입력 받아 상한가 (30%)를  출력하는 print_upper_price 함수를 정의하라."
   ]
  },
  {
   "cell_type": "code",
   "execution_count": 24,
   "id": "74a1c8f1",
   "metadata": {},
   "outputs": [
    {
     "name": "stdout",
     "output_type": "stream",
     "text": [
      "값을 입력하시오:100\n"
     ]
    },
    {
     "data": {
      "text/plain": [
       "130.0"
      ]
     },
     "execution_count": 24,
     "metadata": {},
     "output_type": "execute_result"
    }
   ],
   "source": [
    "def print_upper_price(price):\n",
    "    return price * 1.3\n",
    "\n",
    "price_input = float(input(\"값을 입력하시오:\"))\n",
    "print_upper_price(price_input)"
   ]
  },
  {
   "cell_type": "markdown",
   "id": "e4b3d629",
   "metadata": {},
   "source": [
    "# 세 개의 숫자를 입력받아 가장 큰수를 출력하는 print_max 함수를 정의하라. 단 if 문을 사용해서 수를 비교하라."
   ]
  },
  {
   "cell_type": "code",
   "execution_count": 26,
   "id": "005d7ae4",
   "metadata": {},
   "outputs": [
    {
     "name": "stdout",
     "output_type": "stream",
     "text": [
      "30\n"
     ]
    }
   ],
   "source": [
    "def three_numbers_compare(a,b,c):\n",
    "    compare = a,b,c\n",
    "    return max(compare) \n",
    "\n",
    "\n",
    "print(three_numbers_compare(10,20,30))"
   ]
  },
  {
   "cell_type": "code",
   "execution_count": 35,
   "id": "b029a4a2",
   "metadata": {},
   "outputs": [],
   "source": [
    "# start stop step 을 이용하여 합을 구하는 함수 작성\n",
    "\n",
    "def sum_func(start = 0, stop = 100, step = 1):\n",
    "    total = 0\n",
    "    for i in range(start,stop+1,step):\n",
    "        total += i\n",
    "    return total"
   ]
  },
  {
   "cell_type": "code",
   "execution_count": 38,
   "id": "95278523",
   "metadata": {
    "scrolled": true
   },
   "outputs": [
    {
     "name": "stdout",
     "output_type": "stream",
     "text": [
      "0~100까지 합 5050\n",
      "0~100까지 짝수합 2550\n",
      "0~100까지 홀수합 2500\n"
     ]
    }
   ],
   "source": [
    "print(\"0~100까지 합\", sum_func())\n",
    "print(\"0~100까지 짝수합\", sum_func(step = 2))\n",
    "print(\"0~100까지 홀수합\", sum_func(start = 1,step = 2))\n",
    "print(\"0~50까지 홀수합\", sum_func(start = 1,,step = 2))\n"
   ]
  },
  {
   "cell_type": "code",
   "execution_count": null,
   "id": "7bc6d3d1",
   "metadata": {},
   "outputs": [],
   "source": [
    "def add_func(a,b):\n",
    "    return a+b\n",
    "def sub_func(a,b):\n",
    "    return a-b\n",
    "def min_func(a,b):\n",
    "    return a+b\n",
    "def mul_func(a,b):\n",
    "    return a*b\n"
   ]
  },
  {
   "cell_type": "code",
   "execution_count": null,
   "id": "3cbaa3d4",
   "metadata": {},
   "outputs": [],
   "source": [
    "while True:\n",
    "    cal_input = input(\"계산하려는 값을 입력하시오(끝내기 q):\")\n",
    "   \n",
    "    if cal_input == \"q\":\n",
    "        print(\"프로그램을 종료합니다.\")\n",
    "        break\n",
    "    else:\n",
    "        \n",
    "        def cal_func(a,cal,b):\n",
    "            if a.isdigit() and b.isdigit():\n",
    "                if cal == \"+\":\n",
    "                    output = int(a)+int(b)\n",
    "                elif cal == \"*\":\n",
    "                    output = int(a)*int(b)\n",
    "                elif cal == \"/\":\n",
    "                    output = int(a)/int(b)\n",
    "                elif cal == \"%\":\n",
    "                    output = int(a)%int(b)\n",
    "                elif cal == \"-\":\n",
    "                    output = int(a)-int(b)\n",
    "                else:\n",
    "                    output = \"부호가 잘못되었습니다.\"\n",
    "                    return output\n",
    "            else:\n",
    "                output = \"숫자를 바르게 입력해주세요\"\n",
    "                return output\n",
    "            return output\n",
    "\n",
    "\n",
    "        cal_list = cal_input.split()\n",
    "        print(cal_func(cal_list[0],cal_list[1],cal_list[2]))\n",
    "        "
   ]
  },
  {
   "cell_type": "markdown",
   "id": "d9ef5976",
   "metadata": {},
   "source": [
    "# 성적 리스트를 입력 받아 평균을 출력하는 print_score 함수를 정의하라."
   ]
  },
  {
   "cell_type": "code",
   "execution_count": 44,
   "id": "46692a93",
   "metadata": {},
   "outputs": [
    {
     "name": "stdout",
     "output_type": "stream",
     "text": [
      "성적을 입력하시오:(종료q or Q)100\n",
      "성적을 입력하시오:(종료q or Q)200\n",
      "성적을 입력하시오:(종료q or Q)300\n",
      "성적을 입력하시오:(종료q or Q)400\n",
      "성적을 입력하시오:(종료q or Q)500\n",
      "성적을 입력하시오:(종료q or Q)q\n"
     ]
    },
    {
     "data": {
      "text/plain": [
       "300"
      ]
     },
     "execution_count": 44,
     "metadata": {},
     "output_type": "execute_result"
    }
   ],
   "source": [
    "## mean 함수 기능은 리스트 안에 평균을 구하는 함수닷!\n",
    "from statistics import mean\n",
    "\n",
    "grades = []\n",
    "\n",
    "while True:\n",
    "    grade_input = input(\"성적을 입력하시오:(종료q or Q)\")\n",
    "    if grade_input == \"q\" or grade_input == \"Q\":\n",
    "        break    \n",
    "    grades.append(grade_input)\n",
    "    ## 1. 맵함수를 사용하여 리스트안에 문자열을 정수로 변환\n",
    "grades = list(map(int,grades))\n",
    "    ## 2. 리스트를 매개변수로 받아 mean 함수로 평균값을 return\n",
    "def print_score(a):\n",
    "    return mean(a)\n",
    "\n",
    "print_score(grades)\n",
    "    "
   ]
  },
  {
   "cell_type": "code",
   "execution_count": null,
   "id": "ef470f75",
   "metadata": {},
   "outputs": [],
   "source": [
    "# 재귀 함수로 팩토리얼 구하기(콜백함수)\n",
    "def factorial(n):\n",
    "    if n == 0:\n",
    "        return 1\n",
    "    else:\n",
    "        return n * factorial(n-1)\n",
    "\n",
    "print(factorial(5))"
   ]
  },
  {
   "cell_type": "code",
   "execution_count": null,
   "id": "fb2c581b",
   "metadata": {},
   "outputs": [],
   "source": [
    "# 재귀함수는 같은연산을 기하급수적으로 많이해 사용하면 안된다 하지만\n",
    "# 메모화 기술을 통해 극복가능 (메모화: 메모 변수를 생성)\n",
    "\n",
    "dict ={\n",
    "    1: 1,\n",
    "    2: 1\n",
    "}\n",
    "\n",
    "def fibonacci(n):\n",
    "    \n",
    "    if n in dict:\n",
    "        return dict[n]\n",
    "    else:\n",
    "        output = fibonacci(n-1) + fibonacci(n-2)\n",
    "        dict[n] = output\n",
    "        return output\n",
    "\n",
    "print(fibonacci(1000))    "
   ]
  },
  {
   "cell_type": "markdown",
   "id": "a86971f2",
   "metadata": {},
   "source": [
    "# 하나의 리스트를 입력받아 짝수만 화면에 출력하는 print_even 함수를 정의하라."
   ]
  },
  {
   "cell_type": "code",
   "execution_count": 50,
   "id": "fb8eab3c",
   "metadata": {},
   "outputs": [
    {
     "name": "stdout",
     "output_type": "stream",
     "text": [
      "값을 입력하시오.100 200 300 403\n",
      "짝수\n",
      "짝수\n",
      "짝수\n",
      "홀수\n"
     ]
    }
   ],
   "source": [
    "list_input = input(\"값을 입력하시오.\").split(\" \") \n",
    "list_data = map(int, list_input)\n",
    "\n",
    "def print_even(lists):\n",
    "    for list_input in lists:\n",
    "        if list_input % 2 == 0:\n",
    "            print(\"짝수\")\n",
    "        else:\n",
    "            print(\"홀수\")\n",
    "\n",
    "print_even(list_data)\n",
    "    "
   ]
  },
  {
   "cell_type": "code",
   "execution_count": 45,
   "id": "8fef7b37",
   "metadata": {},
   "outputs": [
    {
     "name": "stdout",
     "output_type": "stream",
     "text": [
      "10\n",
      "10\n"
     ]
    }
   ],
   "source": [
    "# 함수 고급 : tuple ->(), lamda 함수\n",
    "a,b = 10,20\n",
    "print(a)\n",
    "\n",
    "## swap\n",
    "b,a = a,b\n",
    "print(b)"
   ]
  },
  {
   "cell_type": "code",
   "execution_count": 53,
   "id": "375361c0",
   "metadata": {},
   "outputs": [
    {
     "name": "stderr",
     "output_type": "stream",
     "text": [
      "하위 디렉터리 또는 파일 dataset이(가) 이미 있습니다.\n",
      "다음 내용 진행 중 오류 발생: dataset.\n",
      "하위 디렉터리 또는 파일 ##(!이이(가) 이미 있습니다.\n",
      "다음 내용 진행 중 오류 발생: ##(!이.\n",
      "하위 디렉터리 또는 파일 pc에이(가) 이미 있습니다.\n",
      "다음 내용 진행 중 오류 발생: pc에.\n",
      "하위 디렉터리 또는 파일 명령을이(가) 이미 있습니다.\n",
      "다음 내용 진행 중 오류 발생: 명령을.\n",
      "하위 디렉터리 또는 파일 수행하고자이(가) 이미 있습니다.\n",
      "다음 내용 진행 중 오류 발생: 수행하고자.\n",
      "하위 디렉터리 또는 파일 할때)이(가) 이미 있습니다.\n",
      "다음 내용 진행 중 오류 발생: 할때).\n"
     ]
    }
   ],
   "source": [
    "# 텍스트 파일의 처리 : open(), file.write, file.close, file.read()\n",
    "# 현재 경로에서 새로운 디렉토리 dataset 을 생성\n",
    "# dataset 안에 새로운 파일 test.txt 파일을 생성\n",
    "# test.txt 파일에 \"hello python programing\"을 작성하고 파일 close()\n",
    "##(!이 pc에 명령을 수행하고자 할때)\n",
    "!mkdir dataset  \n"
   ]
  },
  {
   "cell_type": "code",
   "execution_count": 54,
   "id": "ba244003",
   "metadata": {},
   "outputs": [],
   "source": [
    "file = open(\"./dataset/test.txt\",\"w\")\n",
    "file.write(\"hello python programing\")\n",
    "file.close()"
   ]
  },
  {
   "cell_type": "code",
   "execution_count": 55,
   "id": "a0321f5f",
   "metadata": {},
   "outputs": [
    {
     "name": "stdout",
     "output_type": "stream",
     "text": [
      "hello python programing\n"
     ]
    }
   ],
   "source": [
    "file = open(\"./dataset/test.txt\",\"r+\")\n",
    "contents = file.read()\n",
    "print(contents)\n",
    "file.write(\"\\nhello python programing read\")"
   ]
  },
  {
   "cell_type": "code",
   "execution_count": 62,
   "id": "2078f7cf",
   "metadata": {},
   "outputs": [
    {
     "name": "stdout",
     "output_type": "stream",
     "text": [
      "hh\n",
      "1\n",
      "1\n",
      "hh\n",
      "2\n",
      "2\n",
      "hh\n",
      "3\n",
      "3\n"
     ]
    }
   ],
   "source": [
    "# 제너레이터 함수 작성 : 함수 내부에 yield 키워드를 사용\n",
    "def gen_test():\n",
    "    print(\"1\")\n",
    "    yield 1\n",
    "    \n",
    "    print(\"2\")\n",
    "    yield 2\n",
    "    \n",
    "    print(\"3\")\n",
    "    yield 3\n",
    "   \n",
    "o_fudd = gen_test()\n",
    "\n",
    "print(\"hh\")    \n",
    "a = next(o_fudd)\n",
    "print(a)\n",
    "\n",
    "print(\"hh\")    \n",
    "a = next(o_fudd)\n",
    "print(a)\n",
    "\n",
    "print(\"hh\")    \n",
    "a = next(o_fudd)\n",
    "print(a)\n",
    "\n"
   ]
  },
  {
   "cell_type": "markdown",
   "id": "63d92ad3",
   "metadata": {},
   "source": [
    "# 모듈"
   ]
  },
  {
   "cell_type": "code",
   "execution_count": 69,
   "id": "f607a584",
   "metadata": {},
   "outputs": [
    {
     "name": "stdout",
     "output_type": "stream",
     "text": [
      "44\n",
      "43\n"
     ]
    }
   ],
   "source": [
    "from math import ceil, floor\n",
    "\n",
    "print(ceil(43.2))     # 올림 정수 44\n",
    "print(floor(43.2))    # 내림 정수 43\n",
    "\n"
   ]
  },
  {
   "cell_type": "code",
   "execution_count": null,
   "id": "2ceae245",
   "metadata": {},
   "outputs": [],
   "source": [
    "import math as m\n",
    "\n",
    "print(m.ceil(43.2))\n",
    "print(m.floor(43.2))\n"
   ]
  },
  {
   "cell_type": "markdown",
   "id": "88bde328",
   "metadata": {},
   "source": [
    "# random 모듈"
   ]
  },
  {
   "cell_type": "code",
   "execution_count": null,
   "id": "ad8ce71d",
   "metadata": {},
   "outputs": [],
   "source": [
    "import random\n",
    "print(\"random 모듈\")\n",
    "\n",
    "print(\"-random():\",random.random())\n",
    "\n",
    "print(\"-uniform:\",random.random())\n",
    "\n"
   ]
  },
  {
   "cell_type": "code",
   "execution_count": 70,
   "id": "6b0a9d06",
   "metadata": {},
   "outputs": [],
   "source": [
    "# mkdir() 디렉토리 생성\n",
    "# rmdir() 디렉토리 삭제\n",
    "# os.listdir() 현재 폴더 리스트\n",
    "# os.remove 파일삭제\n",
    "# os.remove(\"\")\n",
    "# os.rename"
   ]
  },
  {
   "cell_type": "markdown",
   "id": "dd998819",
   "metadata": {},
   "source": [
    "# urllib 모듈"
   ]
  },
  {
   "cell_type": "code",
   "execution_count": 74,
   "id": "25186785",
   "metadata": {},
   "outputs": [],
   "source": [
    "\n",
    "# 웹 페이지 분석 모듈 Beautifulsoup\n",
    "from urllib import request\n",
    "from bs4 import BeautifulSoup\n",
    "\n",
    "# 바이너리 데이터를 타겟에 저장\n",
    "target = request.urlopen(\"https://www.kma.go.kr/kma/weather/forecast/mid-term-rss.jsp?stnId=108\")\n",
    "\n",
    "# Beautiful\n",
    "\n",
    "soup = BeautifulSoup(target, \"html.parser\")\n",
    "\n",
    "for location in soup.select(\"location\"):\n",
    "    # 내부의 city, wf, tmn, tmx 태크를 찾아 출력합니다.\n",
    "    print(\"도시\", location.select_one(\"city\").string)\n",
    "    print(\"날씨\", location.select_one(\"wf\").string)\n",
    "    print(\"최저기온\", location.select_one(\"tmn\").string)\n",
    "    print(\"최고기온\", location.select_one(\"tmx\").string)\n",
    "    print()"
   ]
  },
  {
   "cell_type": "code",
   "execution_count": null,
   "id": "f36cae4e",
   "metadata": {},
   "outputs": [],
   "source": []
  },
  {
   "cell_type": "code",
   "execution_count": null,
   "id": "c721226c",
   "metadata": {},
   "outputs": [],
   "source": []
  },
  {
   "cell_type": "code",
   "execution_count": null,
   "id": "1312ae72",
   "metadata": {},
   "outputs": [],
   "source": []
  },
  {
   "cell_type": "code",
   "execution_count": null,
   "id": "6f5a7a4b",
   "metadata": {},
   "outputs": [],
   "source": []
  }
 ],
 "metadata": {
  "kernelspec": {
   "display_name": "Python 3 (ipykernel)",
   "language": "python",
   "name": "python3"
  },
  "language_info": {
   "codemirror_mode": {
    "name": "ipython",
    "version": 3
   },
   "file_extension": ".py",
   "mimetype": "text/x-python",
   "name": "python",
   "nbconvert_exporter": "python",
   "pygments_lexer": "ipython3",
   "version": "3.9.12"
  }
 },
 "nbformat": 4,
 "nbformat_minor": 5
}
