{
 "cells": [
  {
   "cell_type": "code",
   "execution_count": 5,
   "id": "b053d4d8",
   "metadata": {},
   "outputs": [
    {
     "name": "stdout",
     "output_type": "stream",
     "text": [
      "6\n",
      "5\n",
      "4\n",
      "3\n",
      "2\n",
      "1\n"
     ]
    }
   ],
   "source": [
    "\n",
    "## 제너레이터 함수(reversed)\n",
    "\n",
    "nums = [1,2,3,4,5,6]\n",
    "\n",
    "r_nums = reversed(nums)\n",
    "\n",
    "print(next(r_nums))\n",
    "print(next(r_nums))\n",
    "print(next(r_nums))\n",
    "print(next(r_nums))\n",
    "print(next(r_nums))\n",
    "print(next(r_nums))\n"
   ]
  },
  {
   "cell_type": "code",
   "execution_count": 6,
   "id": "3b3ac685",
   "metadata": {},
   "outputs": [
    {
     "ename": "StopIteration",
     "evalue": "",
     "output_type": "error",
     "traceback": [
      "\u001b[1;31m---------------------------------------------------------------------------\u001b[0m",
      "\u001b[1;31mStopIteration\u001b[0m                             Traceback (most recent call last)",
      "Input \u001b[1;32mIn [6]\u001b[0m, in \u001b[0;36m<cell line: 1>\u001b[1;34m()\u001b[0m\n\u001b[1;32m----> 1\u001b[0m \u001b[38;5;28mprint\u001b[39m(\u001b[38;5;28;43mnext\u001b[39;49m\u001b[43m(\u001b[49m\u001b[43mr_nums\u001b[49m\u001b[43m)\u001b[49m)\n",
      "\u001b[1;31mStopIteration\u001b[0m: "
     ]
    }
   ],
   "source": [
    "## 1 다음에 값이 없어 오류\n",
    "print(next(r_nums))"
   ]
  },
  {
   "cell_type": "markdown",
   "id": "547c438f",
   "metadata": {},
   "source": [
    "# chap5. 함수"
   ]
  },
  {
   "cell_type": "code",
   "execution_count": 18,
   "id": "e75c6df8",
   "metadata": {},
   "outputs": [
    {
     "name": "stdout",
     "output_type": "stream",
     "text": [
      "Hello\n",
      "Hello\n",
      "Hello\n"
     ]
    }
   ],
   "source": [
    "# 1. 함수 만들기 : def 함수명():\n",
    "#      코드 작성 .....\n",
    "def print_3_times():  # 매개변수가 없는 함수!\n",
    "    print(\"Hello\")\n",
    "    print(\"Hello\")\n",
    "    print(\"Hello\")\n",
    "    \n",
    "\n",
    "# 매개변수가 있는 함수 정의\n",
    "def print_n_times(value, n):\n",
    "    for i in range(n):\n",
    "        print(value)\n",
    "        \n",
    "print_3_times()"
   ]
  },
  {
   "cell_type": "code",
   "execution_count": 17,
   "id": "ffc82cc4",
   "metadata": {
    "scrolled": true
   },
   "outputs": [
    {
     "name": "stdout",
     "output_type": "stream",
     "text": [
      "test\n",
      "test\n",
      "test\n"
     ]
    }
   ],
   "source": [
    "print_n_times(\"test\", 3)"
   ]
  },
  {
   "cell_type": "code",
   "execution_count": 20,
   "id": "ae588105",
   "metadata": {},
   "outputs": [
    {
     "name": "stdout",
     "output_type": "stream",
     "text": [
      "test\n",
      "hello\n",
      "python\n",
      "2\n",
      "test\n",
      "hello\n",
      "python\n",
      "2\n"
     ]
    }
   ],
   "source": [
    "# 가변 매개변수 (입력되는 변수가 무제한일때) 함수명(기본변수,*변수명)\n",
    "# (일반적인 매개변수 위치 순서 1. 일반  2. 가변 3. 기본)\n",
    "\n",
    "def print_n_var_times(n, *values, b = 2): #1. 일반 2. 가변 3. 기본\n",
    "    for i in range(n):\n",
    "        for value in values:\n",
    "            print(value)\n",
    "        print(b)\n",
    "        \n",
    "print_n_var_times(2, \"test\",\"hello\",\"python\")\n"
   ]
  },
  {
   "cell_type": "code",
   "execution_count": 21,
   "id": "5127a72f",
   "metadata": {},
   "outputs": [
    {
     "name": "stdout",
     "output_type": "stream",
     "text": [
      "60\n",
      "40\n",
      "220\n",
      "320\n"
     ]
    }
   ],
   "source": [
    "# 일반 \n",
    "\n",
    "def test_func(a, b = 10, c = 20):\n",
    "    print(a+b+c)\n",
    "    \n",
    "test_func(a = 10, b = 20, c = 30)\n",
    "test_func(10)\n",
    "test_func(c = 100, b = 20, a = 100)\n",
    "test_func(a = 10, c = 300)"
   ]
  },
  {
   "cell_type": "markdown",
   "id": "dc85f3fa",
   "metadata": {},
   "source": [
    " # 현재 가격을 입력 받아 상한가 (30%)를  출력하는 print_upper_price 함수를 정의하라."
   ]
  },
  {
   "cell_type": "code",
   "execution_count": 24,
   "id": "74a1c8f1",
   "metadata": {},
   "outputs": [
    {
     "name": "stdout",
     "output_type": "stream",
     "text": [
      "값을 입력하시오:100\n"
     ]
    },
    {
     "data": {
      "text/plain": [
       "130.0"
      ]
     },
     "execution_count": 24,
     "metadata": {},
     "output_type": "execute_result"
    }
   ],
   "source": [
    "def print_upper_price(price):\n",
    "    return price * 1.3\n",
    "\n",
    "price_input = float(input(\"값을 입력하시오:\"))\n",
    "print_upper_price(price_input)"
   ]
  },
  {
   "cell_type": "markdown",
   "id": "e4b3d629",
   "metadata": {},
   "source": [
    "# 세 개의 숫자를 입력받아 가장 큰수를 출력하는 print_max 함수를 정의하라. 단 if 문을 사용해서 수를 비교하라."
   ]
  },
  {
   "cell_type": "code",
   "execution_count": 26,
   "id": "005d7ae4",
   "metadata": {},
   "outputs": [
    {
     "name": "stdout",
     "output_type": "stream",
     "text": [
      "30\n"
     ]
    }
   ],
   "source": [
    "def three_numbers_compare(a,b,c):\n",
    "    compare = a,b,c\n",
    "    return max(compare) \n",
    "\n",
    "\n",
    "print(three_numbers_compare(10,20,30))"
   ]
  },
  {
   "cell_type": "code",
   "execution_count": 35,
   "id": "b029a4a2",
   "metadata": {},
   "outputs": [],
   "source": [
    "# start stop step 을 이용하여 합을 구하는 함수 작성\n",
    "\n",
    "def sum_func(start = 0, stop = 100, step = 1):\n",
    "    total = 0\n",
    "    for i in range(start,stop+1,step):\n",
    "        total += i\n",
    "    return total"
   ]
  },
  {
   "cell_type": "code",
   "execution_count": 38,
   "id": "95278523",
   "metadata": {
    "scrolled": true
   },
   "outputs": [
    {
     "name": "stdout",
     "output_type": "stream",
     "text": [
      "0~100까지 합 5050\n",
      "0~100까지 짝수합 2550\n",
      "0~100까지 홀수합 2500\n"
     ]
    }
   ],
   "source": [
    "print(\"0~100까지 합\", sum_func())\n",
    "print(\"0~100까지 짝수합\", sum_func(step = 2))\n",
    "print(\"0~100까지 홀수합\", sum_func(start = 1,step = 2))\n",
    "print(\"0~50까지 홀수합\", sum_func(start = 1,,step = 2))\n"
   ]
  },
  {
   "cell_type": "code",
   "execution_count": null,
   "id": "7bc6d3d1",
   "metadata": {},
   "outputs": [],
   "source": []
  },
  {
   "cell_type": "code",
   "execution_count": null,
   "id": "3cbaa3d4",
   "metadata": {},
   "outputs": [],
   "source": []
  }
 ],
 "metadata": {
  "kernelspec": {
   "display_name": "Python 3 (ipykernel)",
   "language": "python",
   "name": "python3"
  },
  "language_info": {
   "codemirror_mode": {
    "name": "ipython",
    "version": 3
   },
   "file_extension": ".py",
   "mimetype": "text/x-python",
   "name": "python",
   "nbconvert_exporter": "python",
   "pygments_lexer": "ipython3",
   "version": "3.9.12"
  }
 },
 "nbformat": 4,
 "nbformat_minor": 5
}
