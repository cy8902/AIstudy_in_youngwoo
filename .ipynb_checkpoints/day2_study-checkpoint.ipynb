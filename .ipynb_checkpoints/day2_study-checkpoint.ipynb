{
 "cells": [
  {
   "cell_type": "code",
   "execution_count": null,
   "id": "9798029d",
   "metadata": {},
   "outputs": [],
   "source": [
    "# rfind , find 위치 변환\n",
    "a = \"Hello Python programing!!\"\n",
    "end = a.rfind(\" \")\n",
    "start = a.find(\"P\")\n",
    "a[start:end]"
   ]
  },
  {
   "cell_type": "code",
   "execution_count": null,
   "id": "9a6dabc8",
   "metadata": {},
   "outputs": [],
   "source": []
  },
  {
   "cell_type": "code",
   "execution_count": 3,
   "id": "def68954",
   "metadata": {
    "scrolled": true
   },
   "outputs": [
    {
     "data": {
      "text/plain": [
       "True"
      ]
     },
     "execution_count": 3,
     "metadata": {},
     "output_type": "execute_result"
    }
   ],
   "source": [
    "a_str = \"Hello Python programing!!\"\n",
    "# 문자가 해당 문자열에 : 문자 in 문자열\n",
    "\"Hello\" in a_str\n"
   ]
  },
  {
   "cell_type": "code",
   "execution_count": null,
   "id": "9c8cacfd",
   "metadata": {},
   "outputs": [],
   "source": [
    "# 많이쓰는 함수인 split!!\n",
    "a = \"Hello Python programing!!\"\n",
    "\n",
    "b = a.split(\"e\")\n",
    "print(type(b)) ## 변환할때 리스트로 변환해준다!!! 즉 문자열을 리스트형으로 변환 "
   ]
  },
  {
   "cell_type": "markdown",
   "id": "70dd4ad9",
   "metadata": {},
   "source": [
    "# 조건문\n",
    "## 불 자료형과 if 조건문"
   ]
  },
  {
   "cell_type": "code",
   "execution_count": 14,
   "id": "066ba7ea",
   "metadata": {},
   "outputs": [],
   "source": [
    "# True, Faluse, and, or, not, ==, !=,> 등등등"
   ]
  },
  {
   "cell_type": "code",
   "execution_count": 25,
   "id": "4922ce5a",
   "metadata": {},
   "outputs": [
    {
     "name": "stdout",
     "output_type": "stream",
     "text": [
      "아무거나 입력하시오:12\n",
      "12: 숫자\n"
     ]
    }
   ],
   "source": [
    "a = input(\"아무거나 입력하시오:\")\n",
    "\n",
    "if a.isdigit(): ## 숫자\n",
    "    print(f\"{a}: 숫자\") \n",
    "if a.isalpha(): ## 글자\n",
    "    print(f\"{a}:글자\")"
   ]
  },
  {
   "cell_type": "code",
   "execution_count": 26,
   "id": "0be8141f",
   "metadata": {},
   "outputs": [
    {
     "name": "stdout",
     "output_type": "stream",
     "text": [
      "숫자를 입력하시오:133\n",
      "홀수\n"
     ]
    }
   ],
   "source": [
    "# 정수를 입력받아 입력된 숫자가 짝수인지 홀수인지 출력\n",
    "a = int(input(\"숫자를 입력하시오:\"))\n",
    "if a%2 == 0:\n",
    "    print(\"짝수\")\n",
    "else:\n",
    "    print(\"홀수\")\n"
   ]
  },
  {
   "cell_type": "code",
   "execution_count": 35,
   "id": "d7a356d9",
   "metadata": {},
   "outputs": [
    {
     "name": "stdout",
     "output_type": "stream",
     "text": [
      "값을 입력하시오:fff\n",
      "f\n"
     ]
    }
   ],
   "source": [
    "# 키보드에서 자료를 입력받아 정수이면 홀짝검사 짝수일때만 출력\n",
    "# 정수가 아니면 마지막 문자 출력\n",
    "\n",
    "a = input(\"값을 입력하시오:\")\n",
    "\n",
    "if a.isdecimal():\n",
    "    if int(a) % 2 == 0:\n",
    "        print(\"짝수\")\n",
    "    else:\n",
    "        print(\"홀수\")\n",
    "        \n",
    "else:\n",
    "    print(a[-1])\n"
   ]
  },
  {
   "cell_type": "code",
   "execution_count": 36,
   "id": "895618b6",
   "metadata": {},
   "outputs": [
    {
     "name": "stdout",
     "output_type": "stream",
     "text": [
      "자료입력 : a\n",
      "자료입력 : d\n",
      "자료입력 : f\n",
      "자료입력 : d\n",
      "자료입력 : d\n",
      "입력한 자료:  ['a', 'd', 'f', 'd', 'd']\n",
      "수정할 자료 입력:s\n",
      "수정한 자료:  ['a', 'd', 's', 'd', 'd']\n"
     ]
    }
   ],
   "source": [
    "input_list = []\n",
    "\n",
    "input_data = input(\"자료입력 : \")\n",
    "input_list.append(input_data)\n",
    "input_data = input(\"자료입력 : \")\n",
    "input_list.append(input_data)\n",
    "input_data = input(\"자료입력 : \")\n",
    "input_list.append(input_data)\n",
    "input_data = input(\"자료입력 : \")\n",
    "input_list.append(input_data)\n",
    "input_data = input(\"자료입력 : \")\n",
    "input_list.append(input_data)\n",
    "\n",
    "print(\"입력한 자료: \", input_list)\n",
    "input_list[2] = input(\"수정할 자료 입력:\")\n",
    "\n",
    "print(\"수정한 자료: \", input_list)"
   ]
  },
  {
   "cell_type": "code",
   "execution_count": 68,
   "id": "eb1f123a",
   "metadata": {
    "scrolled": true
   },
   "outputs": [
    {
     "name": "stdout",
     "output_type": "stream",
     "text": [
      "======2단\n",
      "2 * 1 = 2\t2 * 2 = 4\t2 * 3 = 6\n",
      "2 * 4 = 8\t2 * 5 = 10\t2 * 6 = 12\n",
      "2 * 7 = 14\t2 * 8 = 16\t2 * 9 = 18\n",
      "======3단\n",
      "3 * 1 = 3\t3 * 2 = 6\t3 * 3 = 9\n",
      "3 * 4 = 12\t3 * 5 = 15\t3 * 6 = 18\n",
      "3 * 7 = 21\t3 * 8 = 24\t3 * 9 = 27\n",
      "======4단\n",
      "4 * 1 = 4\t4 * 2 = 8\t4 * 3 = 12\n",
      "4 * 4 = 16\t4 * 5 = 20\t4 * 6 = 24\n",
      "4 * 7 = 28\t4 * 8 = 32\t4 * 9 = 36\n",
      "======5단\n",
      "5 * 1 = 5\t5 * 2 = 10\t5 * 3 = 15\n",
      "5 * 4 = 20\t5 * 5 = 25\t5 * 6 = 30\n",
      "5 * 7 = 35\t5 * 8 = 40\t5 * 9 = 45\n",
      "======6단\n",
      "6 * 1 = 6\t6 * 2 = 12\t6 * 3 = 18\n",
      "6 * 4 = 24\t6 * 5 = 30\t6 * 6 = 36\n",
      "6 * 7 = 42\t6 * 8 = 48\t6 * 9 = 54\n",
      "======7단\n",
      "7 * 1 = 7\t7 * 2 = 14\t7 * 3 = 21\n",
      "7 * 4 = 28\t7 * 5 = 35\t7 * 6 = 42\n",
      "7 * 7 = 49\t7 * 8 = 56\t7 * 9 = 63\n",
      "======8단\n",
      "8 * 1 = 8\t8 * 2 = 16\t8 * 3 = 24\n",
      "8 * 4 = 32\t8 * 5 = 40\t8 * 6 = 48\n",
      "8 * 7 = 56\t8 * 8 = 64\t8 * 9 = 72\n",
      "======9단\n",
      "9 * 1 = 9\t9 * 2 = 18\t9 * 3 = 27\n",
      "9 * 4 = 36\t9 * 5 = 45\t9 * 6 = 54\n",
      "9 * 7 = 63\t9 * 8 = 72\t9 * 9 = 81\n"
     ]
    }
   ],
   "source": [
    "# 구구단 출력\n",
    "list_a = [1,2,3,4,5,6,7,8,9]\n",
    "for i in range(2,9+1):\n",
    "    print(f\"======{i}단\")\n",
    "    cnt = 0\n",
    "\n",
    "    for j in list_a:\n",
    "        cnt += 1\n",
    "        \n",
    "        if cnt < 3:\n",
    "            print(f\"{i} * {j} = {i*j}\",end = \"\\t\")\n",
    "        else:\n",
    "            print(f\"{i} * {j} = {i*j}\")\n",
    "            cnt = 0\n",
    "\n",
    "       \n",
    "\n",
    "        \n",
    "        \n",
    "        "
   ]
  },
  {
   "cell_type": "code",
   "execution_count": null,
   "id": "446ae7aa",
   "metadata": {},
   "outputs": [],
   "source": [
    "# 3 * 4 계산기 프로그램 작성\n",
    "#"
   ]
  }
 ],
 "metadata": {
  "kernelspec": {
   "display_name": "Python 3 (ipykernel)",
   "language": "python",
   "name": "python3"
  },
  "language_info": {
   "codemirror_mode": {
    "name": "ipython",
    "version": 3
   },
   "file_extension": ".py",
   "mimetype": "text/x-python",
   "name": "python",
   "nbconvert_exporter": "python",
   "pygments_lexer": "ipython3",
   "version": "3.9.12"
  }
 },
 "nbformat": 4,
 "nbformat_minor": 5
}
