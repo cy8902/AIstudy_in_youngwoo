{
 "cells": [
  {
   "cell_type": "markdown",
   "id": "aafb0716",
   "metadata": {},
   "source": [
    "#  3 + 4 = 7 계산기 프로그램 작성\n",
    "# 반복해서 작성\n",
    "# 처음 문자에 q가 입력되면 프로그램 종료\n",
    "# 1. 문자열 입력 -> 리스트에 저장\n",
    "# 2. 리스트의 자료를 가져 옴\n",
    "# 3. 리스트의 처음 자료가 'q'이면 프로그램 종료\n",
    "# 4. 계속 입력 -> 리스트에 저장"
   ]
  },
  {
   "cell_type": "code",
   "execution_count": 24,
   "id": "08143395",
   "metadata": {},
   "outputs": [
    {
     "name": "stdout",
     "output_type": "stream",
     "text": [
      "계산하려는 값을 입력하시오:q\n"
     ]
    }
   ],
   "source": [
    "## 계산기 문제\n",
    "while True:\n",
    "    cal_input = input(\"계산하려는 값을 입력하시오:\")\n",
    "    if cal_input == \"q\":\n",
    "        break\n",
    "    else:\n",
    "\n",
    "        def cal_func(a,cal,b):\n",
    "            \n",
    "            if cal == \"+\":\n",
    "                output = int(a)+int(b)\n",
    "            elif cal == \"*\":\n",
    "                output = int(a)*int(b)\n",
    "            elif cal == \"/\":\n",
    "                output = int(a)/int(b)\n",
    "            elif cal == \"%\":\n",
    "                output = int(a)%int(b)\n",
    "            elif cal == \"-\":\n",
    "                output = int(a)-int(b)\n",
    "            else:\n",
    "                output = \"부호가 잘못되었습니다.\"\n",
    "                return output\n",
    "            return output\n",
    "\n",
    "\n",
    "        cal_list = cal_input.split()\n",
    "        print(cal_func(cal_list[0],cal_list[1],cal_list[2]))\n",
    "        \n"
   ]
  },
  {
   "cell_type": "code",
   "execution_count": 30,
   "id": "f93d1648",
   "metadata": {},
   "outputs": [
    {
     "name": "stdout",
     "output_type": "stream",
     "text": [
      "계산하려는 값을 입력하시오(끝내기 q):s * s\n",
      "숫자를 바르게 입력해주세요\n",
      "계산하려는 값을 입력하시오(끝내기 q):10 * 10\n",
      "100\n",
      "계산하려는 값을 입력하시오(끝내기 q):q\n"
     ]
    }
   ],
   "source": [
    "## 계산기 숫자 입력 안할시 오류 메세지를 나오게 하기\n",
    "while True:\n",
    "    cal_input = input(\"계산하려는 값을 입력하시오(끝내기 q):\")\n",
    "   \n",
    "    if cal_input == \"q\":\n",
    "        break\n",
    "    else:\n",
    "        \n",
    "        def cal_func(a,cal,b):\n",
    "            if a.isdigit() and b.isdigit():\n",
    "                if cal == \"+\":\n",
    "                    output = int(a)+int(b)\n",
    "                elif cal == \"*\":\n",
    "                    output = int(a)*int(b)\n",
    "                elif cal == \"/\":\n",
    "                    output = int(a)/int(b)\n",
    "                elif cal == \"%\":\n",
    "                    output = int(a)%int(b)\n",
    "                elif cal == \"-\":\n",
    "                    output = int(a)-int(b)\n",
    "                else:\n",
    "                    output = \"부호가 잘못되었습니다.\"\n",
    "                    return output\n",
    "            else:\n",
    "                output = \"숫자를 바르게 입력해주세요\"\n",
    "                return output\n",
    "            return output\n",
    "\n",
    "\n",
    "        cal_list = cal_input.split()\n",
    "        print(cal_func(cal_list[0],cal_list[1],cal_list[2]))\n",
    "        "
   ]
  }
 ],
 "metadata": {
  "kernelspec": {
   "display_name": "Python 3 (ipykernel)",
   "language": "python",
   "name": "python3"
  },
  "language_info": {
   "codemirror_mode": {
    "name": "ipython",
    "version": 3
   },
   "file_extension": ".py",
   "mimetype": "text/x-python",
   "name": "python",
   "nbconvert_exporter": "python",
   "pygments_lexer": "ipython3",
   "version": "3.9.12"
  }
 },
 "nbformat": 4,
 "nbformat_minor": 5
}
