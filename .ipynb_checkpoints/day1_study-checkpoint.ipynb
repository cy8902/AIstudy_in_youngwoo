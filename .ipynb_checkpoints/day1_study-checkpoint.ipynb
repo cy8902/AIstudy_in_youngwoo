{
 "cells": [
  {
   "cell_type": "code",
   "execution_count": null,
   "id": "43b35058",
   "metadata": {},
   "outputs": [],
   "source": [
    "# 키워드는 변수로 선언하면 안된다 ex) while"
   ]
  },
  {
   "cell_type": "code",
   "execution_count": null,
   "id": "b534d458",
   "metadata": {},
   "outputs": [],
   "source": [
    "식별자 안되는 것들\n",
    "1. 키워드사용금지\n",
    "2. 특수 문자는 언더 바(_)만 허용\n",
    "3. 숫자로 시작x\n",
    "4. 공백을 포함할 수 없다."
   ]
  },
  {
   "cell_type": "code",
   "execution_count": null,
   "id": "6a3a2bf8",
   "metadata": {},
   "outputs": [],
   "source": [
    "캐멀케이스 --> 클래스에 사용\n",
    "스네이크 케이스 --> 괄호가 있을때 : 함수\n",
    "                    괄호가 없을때 : 변수"
   ]
  },
  {
   "cell_type": "code",
   "execution_count": null,
   "id": "361d1056",
   "metadata": {},
   "outputs": [],
   "source": [
    "자료는 literal 이라 칭한다."
   ]
  },
  {
   "cell_type": "code",
   "execution_count": null,
   "id": "49344b37",
   "metadata": {},
   "outputs": [],
   "source": [
    "\\n: 줄바꿈 \\t: 탭 "
   ]
  },
  {
   "cell_type": "code",
   "execution_count": 1,
   "id": "38734707",
   "metadata": {},
   "outputs": [
    {
     "name": "stdout",
     "output_type": "stream",
     "text": [
      "a a a a\n"
     ]
    }
   ],
   "source": [
    "print(\"a\",\"a\",\"a\",\"a\", sep = \" \") ## sep = \" \":사이에 공백을 넣어 주겠다"
   ]
  },
  {
   "cell_type": "code",
   "execution_count": null,
   "id": "8fe5674e",
   "metadata": {},
   "outputs": [],
   "source": [
    "문자열 연산자 (+ - * / %)"
   ]
  },
  {
   "cell_type": "code",
   "execution_count": null,
   "id": "7cdbd7de",
   "metadata": {},
   "outputs": [],
   "source": [
    "인덱싱 ex) a[0:0:0]   시작 인덱스:끝 인덱스:오프셋(편차)"
   ]
  },
  {
   "cell_type": "code",
   "execution_count": null,
   "id": "903d1e67",
   "metadata": {},
   "outputs": [],
   "source": [
    "정수나누기 연산자 // (range에서 자주쓰인다.)"
   ]
  },
  {
   "cell_type": "code",
   "execution_count": null,
   "id": "fd077d70",
   "metadata": {},
   "outputs": [],
   "source": [
    "input()함수는 return 값이 str이라서 알맞게 편집해야한다."
   ]
  },
  {
   "cell_type": "code",
   "execution_count": null,
   "id": "f1769640",
   "metadata": {},
   "outputs": [],
   "source": [
    "f-string이 대세지만 format 함수가 더 좋을때도 있음\n",
    "ex)\n",
    "1절\n",
    "\n",
    "동해 물과 백두산이\n",
    "\n",
    "마르고 닳도록{}\n",
    "\n",
    "하느님이 보우하사\n",
    "\n",
    "우리나라 만세{}\n",
    "이럴경우 문장이 길어 {}찾기가 힘들다 format이 더 직관적\n"
   ]
  }
 ],
 "metadata": {
  "kernelspec": {
   "display_name": "Python 3 (ipykernel)",
   "language": "python",
   "name": "python3"
  },
  "language_info": {
   "codemirror_mode": {
    "name": "ipython",
    "version": 3
   },
   "file_extension": ".py",
   "mimetype": "text/x-python",
   "name": "python",
   "nbconvert_exporter": "python",
   "pygments_lexer": "ipython3",
   "version": "3.9.12"
  }
 },
 "nbformat": 4,
 "nbformat_minor": 5
}
