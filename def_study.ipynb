{
 "cells": [
  {
   "cell_type": "code",
   "execution_count": 1,
   "id": "47670e2e",
   "metadata": {},
   "outputs": [
    {
     "name": "stdout",
     "output_type": "stream",
     "text": [
      "지훈입니다\n",
      "지훈입니다\n",
      "지훈입니다\n"
     ]
    }
   ],
   "source": [
    "## 기본적인 함수 만들기\n",
    "def print_3times(n): 2. ## 매개변수 n에 \"지훈입니다\"대입\n",
    "    print(n)\n",
    "    print(n)\n",
    "    print(n)\n",
    "\n",
    "print_3times(\"지훈입니다\") ## 1. 함수를 호출합니다."
   ]
  },
  {
   "cell_type": "code",
   "execution_count": null,
   "id": "c49220e3",
   "metadata": {},
   "outputs": [],
   "source": [
    "# 문자열 관련 함수 : upper() lower() strip() lstrip() rstrip()\n",
    "\n",
    "a = \"지훈입니다\"\n",
    "a.upper()  ## \" 이것을\".upper(대문자로 만들어라)"
   ]
  },
  {
   "cell_type": "code",
   "execution_count": 1,
   "id": "794d2f6d",
   "metadata": {},
   "outputs": [
    {
     "name": "stdout",
     "output_type": "stream",
     "text": [
      "안녕하세요\n",
      "안녕하세요\n",
      "안녕하세요\n",
      "안녕하세요\n",
      "안녕하세요\n",
      "안녕하세요\n",
      "안녕하세요\n",
      "안녕하세요\n",
      "안녕하세요\n",
      "안녕하세요\n"
     ]
    }
   ],
   "source": [
    "# 가변 매개변수 \n",
    "def print_n_times(value, n, *e):\n",
    "    for i in range(n):\n",
    "        print(value)\n",
    "        \n",
    "print_n_times(\"안녕하세요\", 10, 13, 13,13)"
   ]
  },
  {
   "cell_type": "code",
   "execution_count": 3,
   "id": "1d363fe2",
   "metadata": {},
   "outputs": [
    {
     "name": "stdout",
     "output_type": "stream",
     "text": [
      "<class 'tuple'>\n",
      "안녕하세요\n",
      "즐거운\n",
      "파이썬\n",
      "3\n",
      "안녕하세요\n",
      "즐거운\n",
      "파이썬\n",
      "3\n"
     ]
    }
   ],
   "source": [
    "# 함수 변수 선언 순서 (일반 매개변수, 가변 매개변수, 기본 매개변수)\n",
    "# r\n",
    "def print_n_times(*values,n=2):\n",
    "    print(type(values))  ## values의 자료형은 튜플이였다!!\n",
    "     \n",
    "    for i in range(n):\n",
    "        for value in values:\n",
    "            print(value)\n",
    "print_n_times(\"안녕하세요\",\"즐거운\",\"파이썬\",3)\n",
    "           "
   ]
  },
  {
   "cell_type": "code",
   "execution_count": 6,
   "id": "7178c495",
   "metadata": {},
   "outputs": [
    {
     "name": "stdout",
     "output_type": "stream",
     "text": [
      "안녕하세요\n",
      "즐거운\n",
      "파이썬\n",
      "\n"
     ]
    }
   ],
   "source": [
    "# 기본 매개변수에 값을 변경하려면 키워드 매개변수를 사용\n",
    "def print_n_times(*values,n=2):\n",
    "    for i in range(n):\n",
    "        for value in values:\n",
    "            print(value)\n",
    "        print()\n",
    "        \n",
    "print_n_times(\"안녕하세요\",\"즐거운\",\"파이썬\",n=1) ## n=3(키워드 매개변수)"
   ]
  },
  {
   "cell_type": "markdown",
   "id": "441a13a4",
   "metadata": {},
   "source": [
    "# 291_2번 문제"
   ]
  },
  {
   "cell_type": "code",
   "execution_count": 10,
   "id": "8b230a39",
   "metadata": {},
   "outputs": [
    {
     "name": "stdout",
     "output_type": "stream",
     "text": [
      "60\n"
     ]
    }
   ],
   "source": [
    "## 빈칸의 값을 모두 곱해서 리턴하는함수\n",
    "def mul(*values):\n",
    "    output = 1\n",
    "    for i in range(len(values)):\n",
    "        output *= values[i]\n",
    "    return output\n",
    "\n",
    "print(mul(3,4,5))"
   ]
  },
  {
   "cell_type": "markdown",
   "id": "dbcebdce",
   "metadata": {},
   "source": [
    "# 재귀함수!"
   ]
  },
  {
   "cell_type": "code",
   "execution_count": 11,
   "id": "7309840f",
   "metadata": {},
   "outputs": [
    {
     "name": "stdout",
     "output_type": "stream",
     "text": [
      "120\n"
     ]
    }
   ],
   "source": [
    "# 반복문으로 팩토리얼 구하기\n",
    "def factorial(n):\n",
    "    output = 1\n",
    "    \n",
    "    for i in range(1,n+1):\n",
    "        output *= i\n",
    "    return output\n",
    "\n",
    "print(factorial(5))"
   ]
  },
  {
   "cell_type": "code",
   "execution_count": 12,
   "id": "85d87492",
   "metadata": {},
   "outputs": [
    {
     "name": "stdout",
     "output_type": "stream",
     "text": [
      "120\n"
     ]
    }
   ],
   "source": [
    "# 재귀 함수로 팩토리얼 구하기(콜백함수)\n",
    "def factorial(n):\n",
    "    if n == 0:\n",
    "        return 1\n",
    "    else:\n",
    "        return n * factorial(n-1)\n",
    "\n",
    "print(factorial(5))"
   ]
  },
  {
   "cell_type": "code",
   "execution_count": 16,
   "id": "e3cc2e88",
   "metadata": {},
   "outputs": [
    {
     "name": "stdout",
     "output_type": "stream",
     "text": [
      "3628800\n"
     ]
    }
   ],
   "source": [
    "# 재귀함수는 같은연산을 기하급수적으로 많이해 사용하면 안된다 하지만\n",
    "# 메모화 기술을 통해 극복가능\n",
    "\n",
    "dictionary ={\n",
    "    1: 1,\n",
    "    2: 1\n",
    "}\n",
    "\n",
    "def fibonacci(n):\n",
    "    \n",
    "    if n in dictionary:\n",
    "        return dictionary(n)\n",
    "    else:\n",
    "        output = factorial(n-1) + factorial(n-2)\n",
    "        dictionary = output\n",
    "        return output\n",
    "\n",
    "print(factorial(10))    \n",
    "\n"
   ]
  },
  {
   "cell_type": "code",
   "execution_count": 37,
   "id": "92f4b341",
   "metadata": {
    "scrolled": true
   },
   "outputs": [
    {
     "ename": "TypeError",
     "evalue": "'list' object cannot be interpreted as an integer",
     "output_type": "error",
     "traceback": [
      "\u001b[1;31m---------------------------------------------------------------------------\u001b[0m",
      "\u001b[1;31mTypeError\u001b[0m                                 Traceback (most recent call last)",
      "Input \u001b[1;32mIn [37]\u001b[0m, in \u001b[0;36m<cell line: 5>\u001b[1;34m()\u001b[0m\n\u001b[0;32m      3\u001b[0m a \u001b[38;5;241m=\u001b[39m [[\u001b[38;5;241m1\u001b[39m,\u001b[38;5;241m2\u001b[39m,\u001b[38;5;241m3\u001b[39m],[\u001b[38;5;241m4\u001b[39m,\u001b[38;5;241m5\u001b[39m,\u001b[38;5;241m6\u001b[39m],[\u001b[38;5;241m7\u001b[39m,\u001b[38;5;241m8\u001b[39m,\u001b[38;5;241m9\u001b[39m]]\n\u001b[0;32m      4\u001b[0m b \u001b[38;5;241m=\u001b[39m []\n\u001b[1;32m----> 5\u001b[0m \u001b[38;5;28;01mfor\u001b[39;00m i \u001b[38;5;129;01min\u001b[39;00m \u001b[38;5;28;43mrange\u001b[39;49m\u001b[43m(\u001b[49m\u001b[43ma\u001b[49m\u001b[43m)\u001b[49m:\n\u001b[0;32m      6\u001b[0m     \u001b[38;5;28;01mfor\u001b[39;00m j \u001b[38;5;129;01min\u001b[39;00m a[i]:\n\u001b[0;32m      7\u001b[0m         b\u001b[38;5;241m.\u001b[39mappend(j)\n",
      "\u001b[1;31mTypeError\u001b[0m: 'list' object cannot be interpreted as an integer"
     ]
    }
   ],
   "source": [
    "## 리스트 평탄화 복습! (복잡하네)\n",
    "\n",
    "a = [[1,2,3],[4,5,6],[7,8,9]]\n",
    "b = []\n",
    "for i in range(len(a)):\n",
    "    for j in a[i]:\n",
    "        b.append(j)\n",
    "        \n",
    "print(b)"
   ]
  },
  {
   "cell_type": "markdown",
   "id": "2ec1d0f3",
   "metadata": {},
   "source": [
    "# 짝홀수 판별기"
   ]
  },
  {
   "cell_type": "code",
   "execution_count": 41,
   "id": "6526262f",
   "metadata": {},
   "outputs": [
    {
     "name": "stdout",
     "output_type": "stream",
     "text": [
      "숫자를 입력하시오:133\n",
      "홀수\n"
     ]
    }
   ],
   "source": [
    "# 정수를 입력받아 입력된 숫자가 짝수인지 홀수인지 출력\n",
    "a = int(input(\"숫자를 입력하시오:\"))\n",
    "if a%2 == 0:\n",
    "    print(\"짝수\")\n",
    "else:\n",
    "    print(\"홀수\")\n"
   ]
  },
  {
   "cell_type": "code",
   "execution_count": 49,
   "id": "366e2b6e",
   "metadata": {
    "scrolled": true
   },
   "outputs": [
    {
     "name": "stdout",
     "output_type": "stream",
     "text": [
      "숫자를 입력하시오:12\n",
      "짝수\n"
     ]
    }
   ],
   "source": [
    "## 복잡하고 무식한 방법으로 구하기    \n",
    "a = input(\"숫자를 입력하시오:\")\n",
    "if a[-1] == \"2\" or a[-1] == \"4\" or a[-1] ==6 or a[-1] ==8:\n",
    "    print(\"짝수\")\n",
    "else:\n",
    "    print(\"홀수\")"
   ]
  },
  {
   "cell_type": "code",
   "execution_count": 51,
   "id": "fc4225d3",
   "metadata": {},
   "outputs": [
    {
     "name": "stdout",
     "output_type": "stream",
     "text": [
      "숫자를 입력하시오:100\n",
      "짝\n"
     ]
    }
   ],
   "source": [
    "## in 연산자를 이용하여 짝홀수 판별기 만들기\n",
    "a = input(\"숫자를 입력하시오:\")\n",
    "last_c = a[-1]\n",
    "\n",
    "if last_c in \"02468\":\n",
    "    print(\"짝\")\n",
    "else:\n",
    "    print(\"홀\")"
   ]
  },
  {
   "cell_type": "markdown",
   "id": "2c71ce41",
   "metadata": {},
   "source": [
    "# 리스트 평탄화 재귀함수"
   ]
  },
  {
   "cell_type": "code",
   "execution_count": null,
   "id": "54fe8902",
   "metadata": {},
   "outputs": [],
   "source": [
    "def flatten(data): ## 2. 매개변수 example 대입  ## 7. 매개변수 exam[0]\n",
    "    output = []    ## 3. output 선언 8.\n",
    "    for item in data:   ## 4.  for문 반복 example[0,1,2] 9.exam[0](1,2,3)\n",
    "        if type(item) == list:  ## 5. example[0]dl 리스트면\n",
    "            output += flatten(item)  ## 6. output에 flatten(exam[0])대입\n",
    "            \n",
    "        else:\n",
    "            output.append(item)\n",
    "    return output\n",
    "example = [[1,2,3],[4,[5,6]],[7,8,9]]\n",
    "print(\"원본: \",example)\n",
    "print(\"원본: \",flatten(example)) ## 호출 1."
   ]
  },
  {
   "cell_type": "code",
   "execution_count": null,
   "id": "879a6df8",
   "metadata": {},
   "outputs": [],
   "source": []
  }
 ],
 "metadata": {
  "kernelspec": {
   "display_name": "Python 3 (ipykernel)",
   "language": "python",
   "name": "python3"
  },
  "language_info": {
   "codemirror_mode": {
    "name": "ipython",
    "version": 3
   },
   "file_extension": ".py",
   "mimetype": "text/x-python",
   "name": "python",
   "nbconvert_exporter": "python",
   "pygments_lexer": "ipython3",
   "version": "3.9.12"
  }
 },
 "nbformat": 4,
 "nbformat_minor": 5
}
