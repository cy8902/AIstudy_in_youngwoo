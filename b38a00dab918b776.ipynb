{
 "cells": [
  {
   "cell_type": "code",
   "execution_count": 1,
   "id": "b9dd37f4",
   "metadata": {},
   "outputs": [],
   "source": [
    "#05-2 함수의 활용 p315"
   ]
  },
  {
   "cell_type": "code",
   "execution_count": 1,
   "id": "06a511a8",
   "metadata": {},
   "outputs": [
    {
     "name": "stdout",
     "output_type": "stream",
     "text": [
      "437420\n"
     ]
    }
   ],
   "source": [
    "#확인문제1.\n",
    "\n",
    "앉힐수있는최소사람수 = 2\n",
    "앉힐수있는최대사람수 = 10\n",
    "전체사람수 = 100\n",
    "memo = {}\n",
    "\n",
    "def 문제(남은사람수, 앉힌사람수):\n",
    "    key = str([남은사람수, 앉힌사람수])\n",
    "    #종료조건\n",
    "    if key in memo:\n",
    "        return memo[key]\n",
    "    if 남은사람수 < 0:\n",
    "        return 0\n",
    "    if 남은사람수 ==0:\n",
    "        return 1\n",
    "    #재귀처리\n",
    "    count = 0\n",
    "    for i in range(앉힌사람수, 앉힐수있는최대사람수 + 1):\n",
    "        count += 문제(남은사람수 - i, i)\n",
    "    #메모리화\n",
    "    memo[key] = count\n",
    "    #종료\n",
    "    return count\n",
    "print(문제(전체사람수, 앉힐수있는최소사람수))"
   ]
  },
  {
   "cell_type": "code",
   "execution_count": null,
   "id": "334f3682",
   "metadata": {},
   "outputs": [],
   "source": []
  }
 ],
 "metadata": {
  "kernelspec": {
   "display_name": "Python 3 (ipykernel)",
   "language": "python",
   "name": "python3"
  },
  "language_info": {
   "codemirror_mode": {
    "name": "ipython",
    "version": 3
   },
   "file_extension": ".py",
   "mimetype": "text/x-python",
   "name": "python",
   "nbconvert_exporter": "python",
   "pygments_lexer": "ipython3",
   "version": "3.9.12"
  }
 },
 "nbformat": 4,
 "nbformat_minor": 5
}
